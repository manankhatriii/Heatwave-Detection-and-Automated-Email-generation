{
 "cells": [
  {
   "cell_type": "code",
   "execution_count": 1,
   "metadata": {},
   "outputs": [
    {
     "name": "stderr",
     "output_type": "stream",
     "text": [
      "/home/manankhatri/.local/lib/python3.10/site-packages/tqdm/auto.py:21: TqdmWarning: IProgress not found. Please update jupyter and ipywidgets. See https://ipywidgets.readthedocs.io/en/stable/user_install.html\n",
      "  from .autonotebook import tqdm as notebook_tqdm\n"
     ]
    }
   ],
   "source": [
    "import numpy as np\n",
    "import pandas as pd\n",
    "from sklearn.model_selection import TimeSeriesSplit\n",
    "from sklearn.metrics import classification_report, roc_auc_score\n",
    "from sklearn.preprocessing import StandardScaler\n",
    "from xgboost import XGBClassifier\n",
    "import optuna\n",
    "import joblib\n",
    "import warnings"
   ]
  },
  {
   "cell_type": "code",
   "execution_count": 2,
   "metadata": {},
   "outputs": [
    {
     "data": {
      "text/html": [
       "<div>\n",
       "<style scoped>\n",
       "    .dataframe tbody tr th:only-of-type {\n",
       "        vertical-align: middle;\n",
       "    }\n",
       "\n",
       "    .dataframe tbody tr th {\n",
       "        vertical-align: top;\n",
       "    }\n",
       "\n",
       "    .dataframe thead th {\n",
       "        text-align: right;\n",
       "    }\n",
       "</style>\n",
       "<table border=\"1\" class=\"dataframe\">\n",
       "  <thead>\n",
       "    <tr style=\"text-align: right;\">\n",
       "      <th></th>\n",
       "      <th>Year</th>\n",
       "      <th>Month</th>\n",
       "      <th>Day</th>\n",
       "      <th>SurfacePressure</th>\n",
       "      <th>MaxTemperature</th>\n",
       "      <th>MinTemperature</th>\n",
       "      <th>DewPoint</th>\n",
       "      <th>WetBulbTemp</th>\n",
       "      <th>RelHumidity</th>\n",
       "      <th>WindSpeed10</th>\n",
       "      <th>Precipitation</th>\n",
       "      <th>HEATWAVE</th>\n",
       "    </tr>\n",
       "  </thead>\n",
       "  <tbody>\n",
       "    <tr>\n",
       "      <th>0</th>\n",
       "      <td>1990</td>\n",
       "      <td>1</td>\n",
       "      <td>1</td>\n",
       "      <td>98.91</td>\n",
       "      <td>22.18</td>\n",
       "      <td>4.40</td>\n",
       "      <td>-2.97</td>\n",
       "      <td>4.54</td>\n",
       "      <td>38.50</td>\n",
       "      <td>3.43</td>\n",
       "      <td>0.0</td>\n",
       "      <td>0</td>\n",
       "    </tr>\n",
       "    <tr>\n",
       "      <th>1</th>\n",
       "      <td>1990</td>\n",
       "      <td>1</td>\n",
       "      <td>2</td>\n",
       "      <td>98.99</td>\n",
       "      <td>21.76</td>\n",
       "      <td>5.84</td>\n",
       "      <td>-3.17</td>\n",
       "      <td>4.56</td>\n",
       "      <td>36.75</td>\n",
       "      <td>2.73</td>\n",
       "      <td>0.0</td>\n",
       "      <td>0</td>\n",
       "    </tr>\n",
       "    <tr>\n",
       "      <th>2</th>\n",
       "      <td>1990</td>\n",
       "      <td>1</td>\n",
       "      <td>3</td>\n",
       "      <td>99.12</td>\n",
       "      <td>23.00</td>\n",
       "      <td>5.98</td>\n",
       "      <td>-5.08</td>\n",
       "      <td>4.33</td>\n",
       "      <td>30.00</td>\n",
       "      <td>1.64</td>\n",
       "      <td>0.0</td>\n",
       "      <td>0</td>\n",
       "    </tr>\n",
       "  </tbody>\n",
       "</table>\n",
       "</div>"
      ],
      "text/plain": [
       "   Year  Month  Day  SurfacePressure  MaxTemperature  MinTemperature  \\\n",
       "0  1990      1    1            98.91           22.18            4.40   \n",
       "1  1990      1    2            98.99           21.76            5.84   \n",
       "2  1990      1    3            99.12           23.00            5.98   \n",
       "\n",
       "   DewPoint  WetBulbTemp  RelHumidity  WindSpeed10  Precipitation  HEATWAVE  \n",
       "0     -2.97         4.54        38.50         3.43            0.0         0  \n",
       "1     -3.17         4.56        36.75         2.73            0.0         0  \n",
       "2     -5.08         4.33        30.00         1.64            0.0         0  "
      ]
     },
     "execution_count": 2,
     "metadata": {},
     "output_type": "execute_result"
    }
   ],
   "source": [
    "df= pd.read_csv(\"../dataset.csv\")\n",
    "df.head(3)"
   ]
  },
  {
   "cell_type": "code",
   "execution_count": 3,
   "metadata": {},
   "outputs": [],
   "source": [
    "def preprocess_data(df):\n",
    "    print(\"Preprocessing data.\")\n",
    "\n",
    "    for i in range(1, 8):\n",
    "        df[f\"MaxTemperature_lag_{i}\"] = df[\"MaxTemperature\"].shift(i)\n",
    "        df[f\"MinTemperature_lag_{i}\"] = df[\"MinTemperature\"].shift(i)\n",
    "        df[f\"RelHumidity_lag_{i}\"] = df[\"RelHumidity\"].shift(i)\n",
    "        df[f\"WindSpeed10_lag_{i}\"] = df[\"WindSpeed10\"].shift(i)\n",
    "        df[f\"SurfacePressure_lag_{i}\"] = df[\"SurfacePressure\"].shift(i)\n",
    "        df[f\"DewPoint_lag_{i}\"] = df[\"DewPoint\"].shift(i)\n",
    "        df[f\"WetBulbTemp_lag_{i}\"] = df[\"WetBulbTemp\"].shift(i)\n",
    "        df[f\"Precipitation_lag_{i}\"] = df[\"Precipitation\"].shift(i)\n",
    "\n",
    "    for col in ['MaxTemperature', 'MinTemperature', 'RelHumidity', 'WindSpeed10', 'SurfacePressure', 'DewPoint', 'WetBulbTemp', 'Precipitation']:\n",
    "        df[f\"{col}_rolling_mean_7\"] = df[col].rolling(window=7).mean()\n",
    "    \n",
    "    df['Month_sin'] = np.sin(2 * np.pi * df['Month'] / 12)\n",
    "    df['Month_cos'] = np.cos(2 * np.pi * df['Month'] / 12)\n",
    "    df['Day_sin'] = np.sin(2 * np.pi * df['Day'] / 31)\n",
    "    df['Day_cos'] = np.cos(2 * np.pi * df['Day'] / 31)\n",
    "    \n",
    "    df.dropna(inplace=True)\n",
    "    return df"
   ]
  },
  {
   "cell_type": "code",
   "execution_count": 4,
   "metadata": {},
   "outputs": [
    {
     "name": "stdout",
     "output_type": "stream",
     "text": [
      "Preprocessing data.\n"
     ]
    }
   ],
   "source": [
    "df= preprocess_data(df)"
   ]
  },
  {
   "cell_type": "code",
   "execution_count": 5,
   "metadata": {},
   "outputs": [],
   "source": [
    "X= df.drop(columns= [\"HEATWAVE\", \"Year\", \"Month\", \"Day\"])\n",
    "y= df[\"HEATWAVE\"]"
   ]
  },
  {
   "cell_type": "code",
   "execution_count": 6,
   "metadata": {},
   "outputs": [],
   "source": [
    "tscv= TimeSeriesSplit(n_splits= 5)\n",
    "\n",
    "scaler= StandardScaler()\n",
    "X_scaled= scaler.fit_transform(X)"
   ]
  },
  {
   "cell_type": "code",
   "execution_count": 7,
   "metadata": {},
   "outputs": [],
   "source": [
    "def objective(trial):\n",
    "    params= {\n",
    "        'max_depth': trial.suggest_int('max_depth', 3, 15),\n",
    "        'learning_rate': trial.suggest_float('learning_rate', 0.001, 0.2),\n",
    "        'n_estimators': trial.suggest_int('n_estimators', 100, 1000),\n",
    "        'gamma': trial.suggest_float('gamma', 0, 5),\n",
    "        'subsample': trial.suggest_float('subsample', 0.5, 1.0),\n",
    "        'colsample_bytree': trial.suggest_float('colsample_bytree', 0.5, 1.0),\n",
    "        'colsample_bylevel': trial.suggest_float('colsample_bylevel', 0.5, 1.0),\n",
    "        'colsample_bynode': trial.suggest_float('colsample_bynode', 0.5, 1.0),\n",
    "        'min_child_weight': trial.suggest_int('min_child_weight', 1, 10),\n",
    "        'scale_pos_weight': trial.suggest_float('scale_pos_weight', 1, 10),\n",
    "        'reg_alpha': trial.suggest_float('reg_alpha', 0, 10),\n",
    "        'reg_lambda': trial.suggest_float('reg_lambda', 0, 10),\n",
    "        'max_delta_step': trial.suggest_int('max_delta_step', 0, 10),\n",
    "    }\n",
    "\n",
    "    model= XGBClassifier(**params, random_state= 42, verbose= True)\n",
    "    scores= []\n",
    "\n",
    "    print(\"Starting cross-validation.\")\n",
    "\n",
    "    for train_index, test_index in tscv.split(X_scaled):\n",
    "        X_train, X_test = X_scaled[train_index], X_scaled[test_index]\n",
    "        y_train, y_test = y.iloc[train_index], y.iloc[test_index]\n",
    "        \n",
    "        model.fit(X_train, y_train, eval_set=[(X_test, y_test)], verbose=False)\n",
    "        y_pred = model.predict_proba(X_test)[:, 1]\n",
    "        score = roc_auc_score(y_test, y_pred)\n",
    "        scores.append(score)\n",
    "    \n",
    "    return np.mean(scores)"
   ]
  },
  {
   "cell_type": "code",
   "execution_count": 8,
   "metadata": {},
   "outputs": [
    {
     "name": "stderr",
     "output_type": "stream",
     "text": [
      "[I 2024-08-19 16:08:36,086] A new study created in memory with name: no-name-cfb43e4d-4fb0-4cf4-af17-fa0964d7b328\n"
     ]
    },
    {
     "name": "stdout",
     "output_type": "stream",
     "text": [
      "Running Optuna for Hyperparameter Tuning\n"
     ]
    },
    {
     "name": "stderr",
     "output_type": "stream",
     "text": [
      "  0%|          | 0/100 [00:00<?, ?it/s]"
     ]
    },
    {
     "name": "stdout",
     "output_type": "stream",
     "text": [
      "Starting cross-validation.\n"
     ]
    },
    {
     "name": "stderr",
     "output_type": "stream",
     "text": [
      "Best trial: 0. Best value: 0.995368:   1%|          | 1/100 [00:03<05:03,  3.06s/it]"
     ]
    },
    {
     "name": "stdout",
     "output_type": "stream",
     "text": [
      "[I 2024-08-19 16:08:39,145] Trial 0 finished with value: 0.9953677020092385 and parameters: {'max_depth': 14, 'learning_rate': 0.18321819955327517, 'n_estimators': 374, 'gamma': 4.848414734084651, 'subsample': 0.6496134418808461, 'colsample_bytree': 0.9545461408086324, 'colsample_bylevel': 0.9477674333971843, 'colsample_bynode': 0.5911518803908382, 'min_child_weight': 1, 'scale_pos_weight': 4.87543349747689, 'reg_alpha': 3.472381468328697, 'reg_lambda': 2.5406423058944294, 'max_delta_step': 4}. Best is trial 0 with value: 0.9953677020092385.\n",
      "Starting cross-validation.\n"
     ]
    },
    {
     "name": "stderr",
     "output_type": "stream",
     "text": [
      "Best trial: 1. Best value: 0.995466:   2%|▏         | 2/100 [00:04<03:16,  2.01s/it]"
     ]
    },
    {
     "name": "stdout",
     "output_type": "stream",
     "text": [
      "[I 2024-08-19 16:08:40,417] Trial 1 finished with value: 0.9954657274717663 and parameters: {'max_depth': 3, 'learning_rate': 0.16073766821162816, 'n_estimators': 188, 'gamma': 4.160855362012141, 'subsample': 0.8153078894651016, 'colsample_bytree': 0.6339587451922695, 'colsample_bylevel': 0.7720067654630115, 'colsample_bynode': 0.6811564754055964, 'min_child_weight': 1, 'scale_pos_weight': 1.3790029767098844, 'reg_alpha': 9.72230589133654, 'reg_lambda': 3.99315929991268, 'max_delta_step': 6}. Best is trial 1 with value: 0.9954657274717663.\n",
      "Starting cross-validation.\n"
     ]
    },
    {
     "name": "stderr",
     "output_type": "stream",
     "text": [
      "Best trial: 2. Best value: 0.995658:   3%|▎         | 3/100 [00:07<03:55,  2.43s/it]"
     ]
    },
    {
     "name": "stdout",
     "output_type": "stream",
     "text": [
      "[I 2024-08-19 16:08:43,342] Trial 2 finished with value: 0.9956579467217974 and parameters: {'max_depth': 8, 'learning_rate': 0.06729496146165102, 'n_estimators': 345, 'gamma': 1.9860979392778688, 'subsample': 0.779301595700342, 'colsample_bytree': 0.9495872650507728, 'colsample_bylevel': 0.9444105006553085, 'colsample_bynode': 0.5637157324314415, 'min_child_weight': 5, 'scale_pos_weight': 3.910624849865937, 'reg_alpha': 4.3232979306167065, 'reg_lambda': 0.8007926591031866, 'max_delta_step': 0}. Best is trial 2 with value: 0.9956579467217974.\n",
      "Starting cross-validation.\n"
     ]
    },
    {
     "name": "stderr",
     "output_type": "stream",
     "text": [
      "Best trial: 2. Best value: 0.995658:   4%|▍         | 4/100 [00:09<03:42,  2.32s/it]"
     ]
    },
    {
     "name": "stdout",
     "output_type": "stream",
     "text": [
      "[I 2024-08-19 16:08:45,489] Trial 3 finished with value: 0.995631697648044 and parameters: {'max_depth': 7, 'learning_rate': 0.1500863806674984, 'n_estimators': 183, 'gamma': 0.09368159926094966, 'subsample': 0.704723400993919, 'colsample_bytree': 0.8491867652933769, 'colsample_bylevel': 0.7573698140158662, 'colsample_bynode': 0.863633297588553, 'min_child_weight': 7, 'scale_pos_weight': 2.2676357665184996, 'reg_alpha': 9.948557957534794, 'reg_lambda': 3.6118319687484766, 'max_delta_step': 5}. Best is trial 2 with value: 0.9956579467217974.\n",
      "Starting cross-validation.\n"
     ]
    },
    {
     "name": "stderr",
     "output_type": "stream",
     "text": [
      "Best trial: 2. Best value: 0.995658:   5%|▌         | 5/100 [00:15<06:03,  3.83s/it]"
     ]
    },
    {
     "name": "stdout",
     "output_type": "stream",
     "text": [
      "[I 2024-08-19 16:08:52,007] Trial 4 finished with value: 0.9955830429994567 and parameters: {'max_depth': 8, 'learning_rate': 0.04021429198237153, 'n_estimators': 863, 'gamma': 4.022421741671116, 'subsample': 0.6185064856180432, 'colsample_bytree': 0.5052737427360443, 'colsample_bylevel': 0.8819266743347334, 'colsample_bynode': 0.7660999435195968, 'min_child_weight': 4, 'scale_pos_weight': 2.726181684709922, 'reg_alpha': 2.198887074834699, 'reg_lambda': 6.135903290368353, 'max_delta_step': 7}. Best is trial 2 with value: 0.9956579467217974.\n",
      "Starting cross-validation.\n"
     ]
    },
    {
     "name": "stderr",
     "output_type": "stream",
     "text": [
      "Best trial: 2. Best value: 0.995658:   6%|▌         | 6/100 [00:19<05:49,  3.72s/it]"
     ]
    },
    {
     "name": "stdout",
     "output_type": "stream",
     "text": [
      "[I 2024-08-19 16:08:55,506] Trial 5 finished with value: 0.995374503500693 and parameters: {'max_depth': 11, 'learning_rate': 0.08200829788065277, 'n_estimators': 391, 'gamma': 1.3667530600260096, 'subsample': 0.6029017362161166, 'colsample_bytree': 0.833275193998646, 'colsample_bylevel': 0.8445476802905042, 'colsample_bynode': 0.6202479043343845, 'min_child_weight': 3, 'scale_pos_weight': 1.639109673344, 'reg_alpha': 9.240127709983161, 'reg_lambda': 8.966058078531363, 'max_delta_step': 9}. Best is trial 2 with value: 0.9956579467217974.\n",
      "Starting cross-validation.\n"
     ]
    },
    {
     "name": "stderr",
     "output_type": "stream",
     "text": [
      "Best trial: 2. Best value: 0.995658:   7%|▋         | 7/100 [00:24<06:32,  4.22s/it]"
     ]
    },
    {
     "name": "stdout",
     "output_type": "stream",
     "text": [
      "[I 2024-08-19 16:09:00,765] Trial 6 finished with value: 0.9951240987820219 and parameters: {'max_depth': 12, 'learning_rate': 0.19196387279695276, 'n_estimators': 987, 'gamma': 1.0212067856573008, 'subsample': 0.8985490467397798, 'colsample_bytree': 0.6156401428390432, 'colsample_bylevel': 0.8349386002882199, 'colsample_bynode': 0.7057316899435481, 'min_child_weight': 1, 'scale_pos_weight': 7.354589690441153, 'reg_alpha': 9.433497147116336, 'reg_lambda': 2.8652007446579706, 'max_delta_step': 8}. Best is trial 2 with value: 0.9956579467217974.\n",
      "Starting cross-validation.\n"
     ]
    },
    {
     "name": "stderr",
     "output_type": "stream",
     "text": [
      "Best trial: 2. Best value: 0.995658:   8%|▊         | 8/100 [00:30<07:29,  4.89s/it]"
     ]
    },
    {
     "name": "stdout",
     "output_type": "stream",
     "text": [
      "[I 2024-08-19 16:09:07,073] Trial 7 finished with value: 0.9952847496783596 and parameters: {'max_depth': 9, 'learning_rate': 0.12503175425266483, 'n_estimators': 954, 'gamma': 4.3995069914597815, 'subsample': 0.5074296549564217, 'colsample_bytree': 0.5084808213690959, 'colsample_bylevel': 0.6264973069543287, 'colsample_bynode': 0.6989415401678631, 'min_child_weight': 8, 'scale_pos_weight': 6.4537536315639334, 'reg_alpha': 0.04938489999948281, 'reg_lambda': 3.8969420484104997, 'max_delta_step': 6}. Best is trial 2 with value: 0.9956579467217974.\n",
      "Starting cross-validation.\n"
     ]
    },
    {
     "name": "stderr",
     "output_type": "stream",
     "text": [
      "Best trial: 2. Best value: 0.995658:   9%|▉         | 9/100 [00:33<06:03,  3.99s/it]"
     ]
    },
    {
     "name": "stdout",
     "output_type": "stream",
     "text": [
      "[I 2024-08-19 16:09:09,097] Trial 8 finished with value: 0.9953889059929694 and parameters: {'max_depth': 9, 'learning_rate': 0.19741711455953778, 'n_estimators': 398, 'gamma': 2.045959626615293, 'subsample': 0.9217955304394092, 'colsample_bytree': 0.579586995089163, 'colsample_bylevel': 0.7556792733850373, 'colsample_bynode': 0.7611620550413347, 'min_child_weight': 1, 'scale_pos_weight': 2.441745983284052, 'reg_alpha': 2.4712174837705403, 'reg_lambda': 0.5479865739143408, 'max_delta_step': 0}. Best is trial 2 with value: 0.9956579467217974.\n",
      "Starting cross-validation.\n"
     ]
    },
    {
     "name": "stderr",
     "output_type": "stream",
     "text": [
      "Best trial: 2. Best value: 0.995658:  10%|█         | 10/100 [00:37<06:00,  4.00s/it]"
     ]
    },
    {
     "name": "stdout",
     "output_type": "stream",
     "text": [
      "[I 2024-08-19 16:09:13,126] Trial 9 finished with value: 0.9950308534633866 and parameters: {'max_depth': 13, 'learning_rate': 0.03975699306430011, 'n_estimators': 356, 'gamma': 0.6033458659914376, 'subsample': 0.5319654839733685, 'colsample_bytree': 0.9907436993291266, 'colsample_bylevel': 0.5535825260963749, 'colsample_bynode': 0.5053468271414019, 'min_child_weight': 1, 'scale_pos_weight': 5.996239836215097, 'reg_alpha': 2.0579539442976467, 'reg_lambda': 6.337150258647918, 'max_delta_step': 9}. Best is trial 2 with value: 0.9956579467217974.\n",
      "Starting cross-validation.\n"
     ]
    },
    {
     "name": "stderr",
     "output_type": "stream",
     "text": [
      "Best trial: 2. Best value: 0.995658:  11%|█         | 11/100 [00:42<06:34,  4.43s/it]"
     ]
    },
    {
     "name": "stdout",
     "output_type": "stream",
     "text": [
      "[I 2024-08-19 16:09:18,539] Trial 10 finished with value: 0.9951635406204262 and parameters: {'max_depth': 5, 'learning_rate': 0.003264778385626582, 'n_estimators': 678, 'gamma': 2.998406574691346, 'subsample': 0.7991668260979999, 'colsample_bytree': 0.7217894003340015, 'colsample_bylevel': 0.9960767470179187, 'colsample_bynode': 0.9925459012875812, 'min_child_weight': 10, 'scale_pos_weight': 8.683963094337994, 'reg_alpha': 6.611363228238521, 'reg_lambda': 0.40819701093698413, 'max_delta_step': 0}. Best is trial 2 with value: 0.9956579467217974.\n",
      "Starting cross-validation.\n"
     ]
    },
    {
     "name": "stderr",
     "output_type": "stream",
     "text": [
      "Best trial: 11. Best value: 0.995687:  12%|█▏        | 12/100 [00:43<05:08,  3.50s/it]"
     ]
    },
    {
     "name": "stdout",
     "output_type": "stream",
     "text": [
      "[I 2024-08-19 16:09:19,911] Trial 11 finished with value: 0.9956874874907194 and parameters: {'max_depth': 6, 'learning_rate': 0.1184199346752571, 'n_estimators': 101, 'gamma': 2.7608633828654785, 'subsample': 0.7122393600225109, 'colsample_bytree': 0.8701012660337353, 'colsample_bylevel': 0.7033527033571253, 'colsample_bynode': 0.887102814687705, 'min_child_weight': 7, 'scale_pos_weight': 4.134956577821368, 'reg_alpha': 6.399346677011695, 'reg_lambda': 1.682633895489892, 'max_delta_step': 3}. Best is trial 11 with value: 0.9956874874907194.\n",
      "Starting cross-validation.\n"
     ]
    },
    {
     "name": "stderr",
     "output_type": "stream",
     "text": [
      "Best trial: 11. Best value: 0.995687:  13%|█▎        | 13/100 [00:45<04:06,  2.83s/it]"
     ]
    },
    {
     "name": "stdout",
     "output_type": "stream",
     "text": [
      "[I 2024-08-19 16:09:21,208] Trial 12 finished with value: 0.9956301425680328 and parameters: {'max_depth': 6, 'learning_rate': 0.09163570368142097, 'n_estimators': 100, 'gamma': 2.7329598778384985, 'subsample': 0.7458999689305372, 'colsample_bytree': 0.8891294620724474, 'colsample_bylevel': 0.657341845464711, 'colsample_bynode': 0.8865986337435492, 'min_child_weight': 6, 'scale_pos_weight': 4.249863194807092, 'reg_alpha': 6.376211706055783, 'reg_lambda': 1.6185042333448556, 'max_delta_step': 2}. Best is trial 11 with value: 0.9956874874907194.\n",
      "Starting cross-validation.\n"
     ]
    },
    {
     "name": "stderr",
     "output_type": "stream",
     "text": [
      "Best trial: 11. Best value: 0.995687:  14%|█▍        | 14/100 [00:49<04:33,  3.18s/it]"
     ]
    },
    {
     "name": "stdout",
     "output_type": "stream",
     "text": [
      "[I 2024-08-19 16:09:25,177] Trial 13 finished with value: 0.995470670889955 and parameters: {'max_depth': 4, 'learning_rate': 0.0701445660604539, 'n_estimators': 576, 'gamma': 2.02687669915521, 'subsample': 0.9951521385776883, 'colsample_bytree': 0.7726982297310763, 'colsample_bylevel': 0.665271477985531, 'colsample_bynode': 0.8921203140517764, 'min_child_weight': 5, 'scale_pos_weight': 3.5996185134906504, 'reg_alpha': 5.079191035906108, 'reg_lambda': 0.08335208694486562, 'max_delta_step': 2}. Best is trial 11 with value: 0.9956874874907194.\n",
      "Starting cross-validation.\n"
     ]
    },
    {
     "name": "stderr",
     "output_type": "stream",
     "text": [
      "Best trial: 11. Best value: 0.995687:  15%|█▌        | 15/100 [00:51<03:57,  2.80s/it]"
     ]
    },
    {
     "name": "stdout",
     "output_type": "stream",
     "text": [
      "[I 2024-08-19 16:09:27,099] Trial 14 finished with value: 0.9956552522062418 and parameters: {'max_depth': 6, 'learning_rate': 0.12053655251017528, 'n_estimators': 256, 'gamma': 3.3732737890942914, 'subsample': 0.809173617965718, 'colsample_bytree': 0.9157759551136686, 'colsample_bylevel': 0.5153719239469741, 'colsample_bynode': 0.5000986961970197, 'min_child_weight': 9, 'scale_pos_weight': 3.7998054495832534, 'reg_alpha': 7.46452923995526, 'reg_lambda': 1.8249668258369152, 'max_delta_step': 2}. Best is trial 11 with value: 0.9956874874907194.\n",
      "Starting cross-validation.\n"
     ]
    },
    {
     "name": "stderr",
     "output_type": "stream",
     "text": [
      "Best trial: 11. Best value: 0.995687:  16%|█▌        | 16/100 [00:56<05:14,  3.74s/it]"
     ]
    },
    {
     "name": "stdout",
     "output_type": "stream",
     "text": [
      "[I 2024-08-19 16:09:33,035] Trial 15 finished with value: 0.995546769685696 and parameters: {'max_depth': 11, 'learning_rate': 0.05264284629510481, 'n_estimators': 551, 'gamma': 2.0891256871879516, 'subsample': 0.68708280411294, 'colsample_bytree': 0.7822864572437953, 'colsample_bylevel': 0.6995972481722063, 'colsample_bynode': 0.996303923867707, 'min_child_weight': 6, 'scale_pos_weight': 5.3480996206246445, 'reg_alpha': 4.452977898616365, 'reg_lambda': 5.417242923907545, 'max_delta_step': 3}. Best is trial 11 with value: 0.9956874874907194.\n",
      "Starting cross-validation.\n"
     ]
    },
    {
     "name": "stderr",
     "output_type": "stream",
     "text": [
      "Best trial: 11. Best value: 0.995687:  17%|█▋        | 17/100 [01:01<05:19,  3.85s/it]"
     ]
    },
    {
     "name": "stdout",
     "output_type": "stream",
     "text": [
      "[I 2024-08-19 16:09:37,123] Trial 16 finished with value: 0.9954697468423923 and parameters: {'max_depth': 8, 'learning_rate': 0.11495295926716512, 'n_estimators': 260, 'gamma': 1.6597884526948308, 'subsample': 0.8704162715016144, 'colsample_bytree': 0.9986562898903345, 'colsample_bylevel': 0.9050325707481647, 'colsample_bynode': 0.815064020118916, 'min_child_weight': 3, 'scale_pos_weight': 9.874164436207518, 'reg_alpha': 5.334215080757147, 'reg_lambda': 8.345450611246342, 'max_delta_step': 1}. Best is trial 11 with value: 0.9956874874907194.\n",
      "Starting cross-validation.\n"
     ]
    },
    {
     "name": "stderr",
     "output_type": "stream",
     "text": [
      "Best trial: 11. Best value: 0.995687:  18%|█▊        | 18/100 [01:03<04:33,  3.34s/it]"
     ]
    },
    {
     "name": "stdout",
     "output_type": "stream",
     "text": [
      "[I 2024-08-19 16:09:39,274] Trial 17 finished with value: 0.9950303098762177 and parameters: {'max_depth': 5, 'learning_rate': 0.00469898948260955, 'n_estimators': 106, 'gamma': 3.4411868914926735, 'subsample': 0.7496077264282551, 'colsample_bytree': 0.923252252566086, 'colsample_bylevel': 0.8096132441683096, 'colsample_bynode': 0.5722375671652804, 'min_child_weight': 7, 'scale_pos_weight': 7.2510629691795545, 'reg_alpha': 8.058375684637475, 'reg_lambda': 1.624554745420336, 'max_delta_step': 4}. Best is trial 11 with value: 0.9956874874907194.\n",
      "Starting cross-validation.\n"
     ]
    },
    {
     "name": "stderr",
     "output_type": "stream",
     "text": [
      "Best trial: 11. Best value: 0.995687:  19%|█▉        | 19/100 [01:06<04:30,  3.34s/it]"
     ]
    },
    {
     "name": "stdout",
     "output_type": "stream",
     "text": [
      "[I 2024-08-19 16:09:42,609] Trial 18 finished with value: 0.9954344498906783 and parameters: {'max_depth': 10, 'learning_rate': 0.14098881281808118, 'n_estimators': 488, 'gamma': 2.5891697616767235, 'subsample': 0.5655295761853346, 'colsample_bytree': 0.8473072921673995, 'colsample_bylevel': 0.5846830758612847, 'colsample_bynode': 0.8331256192551476, 'min_child_weight': 4, 'scale_pos_weight': 3.175325642590809, 'reg_alpha': 4.049255237296141, 'reg_lambda': 7.745067025047602, 'max_delta_step': 1}. Best is trial 11 with value: 0.9956874874907194.\n",
      "Starting cross-validation.\n"
     ]
    },
    {
     "name": "stderr",
     "output_type": "stream",
     "text": [
      "Best trial: 11. Best value: 0.995687:  20%|██        | 20/100 [01:11<05:01,  3.77s/it]"
     ]
    },
    {
     "name": "stdout",
     "output_type": "stream",
     "text": [
      "[I 2024-08-19 16:09:47,396] Trial 19 finished with value: 0.9955553031997415 and parameters: {'max_depth': 7, 'learning_rate': 0.10345518000371925, 'n_estimators': 743, 'gamma': 3.475012681282308, 'subsample': 0.691437198222026, 'colsample_bytree': 0.7204031452407408, 'colsample_bylevel': 0.7219414079078319, 'colsample_bynode': 0.937035620648548, 'min_child_weight': 8, 'scale_pos_weight': 4.557139666692525, 'reg_alpha': 6.113814542286447, 'reg_lambda': 1.092714796871178, 'max_delta_step': 3}. Best is trial 11 with value: 0.9956874874907194.\n",
      "Starting cross-validation.\n"
     ]
    },
    {
     "name": "stderr",
     "output_type": "stream",
     "text": [
      "Best trial: 11. Best value: 0.995687:  21%|██        | 21/100 [01:14<04:47,  3.64s/it]"
     ]
    },
    {
     "name": "stdout",
     "output_type": "stream",
     "text": [
      "[I 2024-08-19 16:09:50,736] Trial 20 finished with value: 0.995482011526575 and parameters: {'max_depth': 15, 'learning_rate': 0.07199706711790815, 'n_estimators': 266, 'gamma': 1.1840006743607092, 'subsample': 0.8333440273090976, 'colsample_bytree': 0.8856621573624941, 'colsample_bylevel': 0.9709500321283324, 'colsample_bynode': 0.6407243849684554, 'min_child_weight': 5, 'scale_pos_weight': 5.433133284332847, 'reg_alpha': 3.31083052961762, 'reg_lambda': 2.7101197146552742, 'max_delta_step': 0}. Best is trial 11 with value: 0.9956874874907194.\n",
      "Starting cross-validation.\n"
     ]
    },
    {
     "name": "stderr",
     "output_type": "stream",
     "text": [
      "Best trial: 11. Best value: 0.995687:  22%|██▏       | 22/100 [01:18<04:52,  3.74s/it]"
     ]
    },
    {
     "name": "stdout",
     "output_type": "stream",
     "text": [
      "[I 2024-08-19 16:09:54,718] Trial 21 finished with value: 0.9955895591292702 and parameters: {'max_depth': 6, 'learning_rate': 0.11967659591329477, 'n_estimators': 282, 'gamma': 3.21787779467573, 'subsample': 0.7868925711988342, 'colsample_bytree': 0.9206617585068049, 'colsample_bylevel': 0.5040977011997382, 'colsample_bynode': 0.5002016217484292, 'min_child_weight': 10, 'scale_pos_weight': 3.663727000302409, 'reg_alpha': 7.382966436249101, 'reg_lambda': 1.8968860078709473, 'max_delta_step': 2}. Best is trial 11 with value: 0.9956874874907194.\n",
      "Starting cross-validation.\n"
     ]
    },
    {
     "name": "stderr",
     "output_type": "stream",
     "text": [
      "Best trial: 22. Best value: 0.995727:  23%|██▎       | 23/100 [01:20<03:53,  3.04s/it]"
     ]
    },
    {
     "name": "stdout",
     "output_type": "stream",
     "text": [
      "[I 2024-08-19 16:09:56,102] Trial 22 finished with value: 0.9957272600310395 and parameters: {'max_depth': 3, 'learning_rate': 0.10283260027455113, 'n_estimators': 195, 'gamma': 3.781092871068573, 'subsample': 0.7383402719434093, 'colsample_bytree': 0.9431339940122662, 'colsample_bylevel': 0.5059454748700742, 'colsample_bynode': 0.5569659972899867, 'min_child_weight': 9, 'scale_pos_weight': 4.096537159066418, 'reg_alpha': 8.055346474208472, 'reg_lambda': 1.0018471295797773, 'max_delta_step': 1}. Best is trial 22 with value: 0.9957272600310395.\n",
      "Starting cross-validation.\n"
     ]
    },
    {
     "name": "stderr",
     "output_type": "stream",
     "text": [
      "Best trial: 22. Best value: 0.995727:  24%|██▍       | 24/100 [01:26<05:12,  4.11s/it]"
     ]
    },
    {
     "name": "stdout",
     "output_type": "stream",
     "text": [
      "[I 2024-08-19 16:10:02,712] Trial 23 finished with value: 0.9956340954836429 and parameters: {'max_depth': 3, 'learning_rate': 0.10310649885554374, 'n_estimators': 170, 'gamma': 3.702255833958726, 'subsample': 0.7211061967069252, 'colsample_bytree': 0.9548648726540337, 'colsample_bylevel': 0.5918004209576478, 'colsample_bynode': 0.5559749580035611, 'min_child_weight': 8, 'scale_pos_weight': 4.295958716869556, 'reg_alpha': 5.6253272543591955, 'reg_lambda': 1.0570132342458947, 'max_delta_step': 1}. Best is trial 22 with value: 0.9957272600310395.\n",
      "Starting cross-validation.\n"
     ]
    },
    {
     "name": "stderr",
     "output_type": "stream",
     "text": [
      "Best trial: 22. Best value: 0.995727:  25%|██▌       | 25/100 [01:30<05:10,  4.14s/it]"
     ]
    },
    {
     "name": "stdout",
     "output_type": "stream",
     "text": [
      "[I 2024-08-19 16:10:06,932] Trial 24 finished with value: 0.9956907057520471 and parameters: {'max_depth': 4, 'learning_rate': 0.06005585294252927, 'n_estimators': 461, 'gamma': 2.265004688466353, 'subsample': 0.649562316805733, 'colsample_bytree': 0.8050978749537891, 'colsample_bylevel': 0.8995828284269224, 'colsample_bynode': 0.6313400419520099, 'min_child_weight': 9, 'scale_pos_weight': 3.0796574448701524, 'reg_alpha': 8.452893690928374, 'reg_lambda': 0.1480268802110989, 'max_delta_step': 3}. Best is trial 22 with value: 0.9957272600310395.\n",
      "Starting cross-validation.\n"
     ]
    },
    {
     "name": "stderr",
     "output_type": "stream",
     "text": [
      "Best trial: 22. Best value: 0.995727:  26%|██▌       | 26/100 [01:34<04:45,  3.86s/it]"
     ]
    },
    {
     "name": "stdout",
     "output_type": "stream",
     "text": [
      "[I 2024-08-19 16:10:10,145] Trial 25 finished with value: 0.9956452202931996 and parameters: {'max_depth': 4, 'learning_rate': 0.13528872057309746, 'n_estimators': 457, 'gamma': 2.7134187779697903, 'subsample': 0.6463988886618767, 'colsample_bytree': 0.8292313865751857, 'colsample_bylevel': 0.7965941697704809, 'colsample_bynode': 0.6413786738227015, 'min_child_weight': 9, 'scale_pos_weight': 2.90612555002419, 'reg_alpha': 8.3671104461778, 'reg_lambda': 9.997425503692451, 'max_delta_step': 4}. Best is trial 22 with value: 0.9957272600310395.\n",
      "Starting cross-validation.\n"
     ]
    },
    {
     "name": "stderr",
     "output_type": "stream",
     "text": [
      "Best trial: 26. Best value: 0.995816:  27%|██▋       | 27/100 [01:41<06:02,  4.96s/it]"
     ]
    },
    {
     "name": "stdout",
     "output_type": "stream",
     "text": [
      "[I 2024-08-19 16:10:17,661] Trial 26 finished with value: 0.99581556518134 and parameters: {'max_depth': 4, 'learning_rate': 0.026495489609162585, 'n_estimators': 651, 'gamma': 2.395553386416613, 'subsample': 0.663237123873188, 'colsample_bytree': 0.8036897375084339, 'colsample_bylevel': 0.7057807912724431, 'colsample_bynode': 0.7311670415978071, 'min_child_weight': 9, 'scale_pos_weight': 1.9865581396988112, 'reg_alpha': 8.583139956369385, 'reg_lambda': 0.09749395156136398, 'max_delta_step': 3}. Best is trial 26 with value: 0.99581556518134.\n",
      "Starting cross-validation.\n"
     ]
    },
    {
     "name": "stderr",
     "output_type": "stream",
     "text": [
      "Best trial: 27. Best value: 0.995853:  28%|██▊       | 28/100 [01:50<07:12,  6.00s/it]"
     ]
    },
    {
     "name": "stdout",
     "output_type": "stream",
     "text": [
      "[I 2024-08-19 16:10:26,093] Trial 27 finished with value: 0.9958530376173567 and parameters: {'max_depth': 4, 'learning_rate': 0.03217725989858485, 'n_estimators': 649, 'gamma': 2.310127961627521, 'subsample': 0.6572739669957576, 'colsample_bytree': 0.6746660962528748, 'colsample_bylevel': 0.8704214352029858, 'colsample_bynode': 0.7297388820890415, 'min_child_weight': 9, 'scale_pos_weight': 1.1024945196731863, 'reg_alpha': 8.731005447577223, 'reg_lambda': 0.03279393841657097, 'max_delta_step': 5}. Best is trial 27 with value: 0.9958530376173567.\n",
      "Starting cross-validation.\n"
     ]
    },
    {
     "name": "stderr",
     "output_type": "stream",
     "text": [
      "Best trial: 28. Best value: 0.99589:  29%|██▉       | 29/100 [01:57<07:43,  6.52s/it] "
     ]
    },
    {
     "name": "stdout",
     "output_type": "stream",
     "text": [
      "[I 2024-08-19 16:10:33,836] Trial 28 finished with value: 0.9958901724258056 and parameters: {'max_depth': 3, 'learning_rate': 0.03023716937907122, 'n_estimators': 654, 'gamma': 4.9587282814585665, 'subsample': 0.5934626492315828, 'colsample_bytree': 0.6819915726002629, 'colsample_bylevel': 0.8625023071537911, 'colsample_bynode': 0.735836507497338, 'min_child_weight': 10, 'scale_pos_weight': 1.2096024680009112, 'reg_alpha': 8.918225671095263, 'reg_lambda': 4.7038476399064955, 'max_delta_step': 5}. Best is trial 28 with value: 0.9958901724258056.\n",
      "Starting cross-validation.\n"
     ]
    },
    {
     "name": "stderr",
     "output_type": "stream",
     "text": [
      "Best trial: 29. Best value: 0.995951:  30%|███       | 30/100 [02:06<08:29,  7.27s/it]"
     ]
    },
    {
     "name": "stdout",
     "output_type": "stream",
     "text": [
      "[I 2024-08-19 16:10:42,856] Trial 29 finished with value: 0.9959509734845688 and parameters: {'max_depth': 5, 'learning_rate': 0.013792151107888445, 'n_estimators': 653, 'gamma': 1.5606896843229814, 'subsample': 0.5756481453860658, 'colsample_bytree': 0.6851182412132939, 'colsample_bylevel': 0.8569801577677292, 'colsample_bynode': 0.7902505973669158, 'min_child_weight': 10, 'scale_pos_weight': 1.178509879559814, 'reg_alpha': 8.874693581099105, 'reg_lambda': 4.69437180630408, 'max_delta_step': 5}. Best is trial 29 with value: 0.9959509734845688.\n",
      "Starting cross-validation.\n"
     ]
    },
    {
     "name": "stderr",
     "output_type": "stream",
     "text": [
      "Best trial: 30. Best value: 0.995992:  31%|███       | 31/100 [02:15<08:49,  7.68s/it]"
     ]
    },
    {
     "name": "stdout",
     "output_type": "stream",
     "text": [
      "[I 2024-08-19 16:10:51,478] Trial 30 finished with value: 0.9959922414620467 and parameters: {'max_depth': 5, 'learning_rate': 0.015334118928960456, 'n_estimators': 769, 'gamma': 4.863371056841134, 'subsample': 0.5800423012955994, 'colsample_bytree': 0.6745691731300161, 'colsample_bylevel': 0.8629129467293408, 'colsample_bynode': 0.7975532766468915, 'min_child_weight': 10, 'scale_pos_weight': 1.0132780802455688, 'reg_alpha': 7.144707097902846, 'reg_lambda': 4.692413648054215, 'max_delta_step': 5}. Best is trial 30 with value: 0.9959922414620467.\n",
      "Starting cross-validation.\n"
     ]
    },
    {
     "name": "stderr",
     "output_type": "stream",
     "text": [
      "Best trial: 30. Best value: 0.995992:  32%|███▏      | 32/100 [02:23<08:57,  7.90s/it]"
     ]
    },
    {
     "name": "stdout",
     "output_type": "stream",
     "text": [
      "[I 2024-08-19 16:10:59,896] Trial 31 finished with value: 0.995969958113325 and parameters: {'max_depth': 5, 'learning_rate': 0.02026912280924216, 'n_estimators': 785, 'gamma': 4.915152191730836, 'subsample': 0.5746860798753514, 'colsample_bytree': 0.6713305506179288, 'colsample_bylevel': 0.861122476669786, 'colsample_bynode': 0.7966502586912304, 'min_child_weight': 10, 'scale_pos_weight': 1.0981647441235924, 'reg_alpha': 9.104413795936368, 'reg_lambda': 4.952750662479384, 'max_delta_step': 5}. Best is trial 30 with value: 0.9959922414620467.\n",
      "Starting cross-validation.\n"
     ]
    },
    {
     "name": "stderr",
     "output_type": "stream",
     "text": [
      "Best trial: 32. Best value: 0.996016:  33%|███▎      | 33/100 [02:33<09:29,  8.50s/it]"
     ]
    },
    {
     "name": "stdout",
     "output_type": "stream",
     "text": [
      "[I 2024-08-19 16:11:09,801] Trial 32 finished with value: 0.9960156385392465 and parameters: {'max_depth': 5, 'learning_rate': 0.01708389622586192, 'n_estimators': 789, 'gamma': 4.826313749755693, 'subsample': 0.5709008902828637, 'colsample_bytree': 0.6806472173287202, 'colsample_bylevel': 0.939991571478525, 'colsample_bynode': 0.7935363431416966, 'min_child_weight': 10, 'scale_pos_weight': 1.0519111738372444, 'reg_alpha': 7.3005738726752005, 'reg_lambda': 4.784841637154735, 'max_delta_step': 6}. Best is trial 32 with value: 0.9960156385392465.\n",
      "Starting cross-validation.\n"
     ]
    },
    {
     "name": "stderr",
     "output_type": "stream",
     "text": [
      "Best trial: 32. Best value: 0.996016:  34%|███▍      | 34/100 [02:42<09:20,  8.50s/it]"
     ]
    },
    {
     "name": "stdout",
     "output_type": "stream",
     "text": [
      "[I 2024-08-19 16:11:18,298] Trial 33 finished with value: 0.9958970868236718 and parameters: {'max_depth': 5, 'learning_rate': 0.015415280623489468, 'n_estimators': 801, 'gamma': 4.600444052260233, 'subsample': 0.5558867102610786, 'colsample_bytree': 0.6484215569215286, 'colsample_bylevel': 0.9310833060520755, 'colsample_bynode': 0.7948081446295949, 'min_child_weight': 10, 'scale_pos_weight': 1.735617117041954, 'reg_alpha': 7.341647468201087, 'reg_lambda': 4.973514784340529, 'max_delta_step': 6}. Best is trial 32 with value: 0.9960156385392465.\n",
      "Starting cross-validation.\n"
     ]
    },
    {
     "name": "stderr",
     "output_type": "stream",
     "text": [
      "Best trial: 32. Best value: 0.996016:  35%|███▌      | 35/100 [02:49<08:56,  8.25s/it]"
     ]
    },
    {
     "name": "stdout",
     "output_type": "stream",
     "text": [
      "[I 2024-08-19 16:11:25,967] Trial 34 finished with value: 0.9959920407247914 and parameters: {'max_depth': 5, 'learning_rate': 0.018918479842043867, 'n_estimators': 865, 'gamma': 4.651877947954645, 'subsample': 0.5765817214502676, 'colsample_bytree': 0.6016322883246118, 'colsample_bylevel': 0.9271036587190847, 'colsample_bynode': 0.800375515736231, 'min_child_weight': 10, 'scale_pos_weight': 1.0075763810165363, 'reg_alpha': 9.977649461850136, 'reg_lambda': 6.1336474752788135, 'max_delta_step': 7}. Best is trial 32 with value: 0.9960156385392465.\n",
      "Starting cross-validation.\n"
     ]
    },
    {
     "name": "stderr",
     "output_type": "stream",
     "text": [
      "Best trial: 32. Best value: 0.996016:  36%|███▌      | 36/100 [02:56<08:22,  7.85s/it]"
     ]
    },
    {
     "name": "stdout",
     "output_type": "stream",
     "text": [
      "[I 2024-08-19 16:11:32,879] Trial 35 finished with value: 0.9956833038170501 and parameters: {'max_depth': 7, 'learning_rate': 0.17014722819114286, 'n_estimators': 890, 'gamma': 4.694420795062747, 'subsample': 0.5020524000627336, 'colsample_bytree': 0.5810601599541183, 'colsample_bylevel': 0.9287217324708055, 'colsample_bynode': 0.8475869726501942, 'min_child_weight': 10, 'scale_pos_weight': 2.1567200072434876, 'reg_alpha': 9.990497147976642, 'reg_lambda': 6.518137212448234, 'max_delta_step': 7}. Best is trial 32 with value: 0.9960156385392465.\n",
      "Starting cross-validation.\n"
     ]
    },
    {
     "name": "stderr",
     "output_type": "stream",
     "text": [
      "Best trial: 32. Best value: 0.996016:  37%|███▋      | 37/100 [03:03<07:56,  7.56s/it]"
     ]
    },
    {
     "name": "stdout",
     "output_type": "stream",
     "text": [
      "[I 2024-08-19 16:11:39,765] Trial 36 finished with value: 0.9959345028132296 and parameters: {'max_depth': 7, 'learning_rate': 0.047972725623987876, 'n_estimators': 794, 'gamma': 4.233353934276865, 'subsample': 0.5339313340415851, 'colsample_bytree': 0.5998228482368048, 'colsample_bylevel': 0.9555049951975132, 'colsample_bynode': 0.7983354540091733, 'min_child_weight': 8, 'scale_pos_weight': 1.7376080547141992, 'reg_alpha': 9.447980676385495, 'reg_lambda': 5.6910451809852125, 'max_delta_step': 7}. Best is trial 32 with value: 0.9960156385392465.\n",
      "Starting cross-validation.\n"
     ]
    },
    {
     "name": "stderr",
     "output_type": "stream",
     "text": [
      "Best trial: 32. Best value: 0.996016:  38%|███▊      | 38/100 [03:12<08:15,  7.99s/it]"
     ]
    },
    {
     "name": "stdout",
     "output_type": "stream",
     "text": [
      "[I 2024-08-19 16:11:48,747] Trial 37 finished with value: 0.9957220752639276 and parameters: {'max_depth': 8, 'learning_rate': 0.018279059728650748, 'n_estimators': 881, 'gamma': 4.996417122455473, 'subsample': 0.6092768309132688, 'colsample_bytree': 0.5478491349273009, 'colsample_bylevel': 0.9001965802114579, 'colsample_bynode': 0.7713545755616665, 'min_child_weight': 10, 'scale_pos_weight': 2.5198204913267084, 'reg_alpha': 6.931941108754797, 'reg_lambda': 7.055632657780375, 'max_delta_step': 6}. Best is trial 32 with value: 0.9960156385392465.\n",
      "Starting cross-validation.\n"
     ]
    },
    {
     "name": "stderr",
     "output_type": "stream",
     "text": [
      "Best trial: 32. Best value: 0.996016:  39%|███▉      | 39/100 [03:20<08:05,  7.96s/it]"
     ]
    },
    {
     "name": "stdout",
     "output_type": "stream",
     "text": [
      "[I 2024-08-19 16:11:56,647] Trial 38 finished with value: 0.9958787953004986 and parameters: {'max_depth': 5, 'learning_rate': 0.020600576102755667, 'n_estimators': 775, 'gamma': 4.4744447940327285, 'subsample': 0.6340221395288157, 'colsample_bytree': 0.6364321093609396, 'colsample_bylevel': 0.8155905188268968, 'colsample_bynode': 0.8255641135991085, 'min_child_weight': 9, 'scale_pos_weight': 1.6597841029909097, 'reg_alpha': 7.7624322520175735, 'reg_lambda': 3.428966503618518, 'max_delta_step': 8}. Best is trial 32 with value: 0.9960156385392465.\n",
      "Starting cross-validation.\n"
     ]
    },
    {
     "name": "stderr",
     "output_type": "stream",
     "text": [
      "Best trial: 32. Best value: 0.996016:  40%|████      | 40/100 [03:31<08:42,  8.71s/it]"
     ]
    },
    {
     "name": "stdout",
     "output_type": "stream",
     "text": [
      "[I 2024-08-19 16:12:07,112] Trial 39 finished with value: 0.9959542921541724 and parameters: {'max_depth': 6, 'learning_rate': 0.04716901288441156, 'n_estimators': 724, 'gamma': 4.129907770086906, 'subsample': 0.538415757295697, 'colsample_bytree': 0.7134663880556892, 'colsample_bylevel': 0.9885080240225816, 'colsample_bynode': 0.8658521872438615, 'min_child_weight': 7, 'scale_pos_weight': 1.0181627945520466, 'reg_alpha': 9.324888297248947, 'reg_lambda': 4.119350597514287, 'max_delta_step': 8}. Best is trial 32 with value: 0.9960156385392465.\n",
      "Starting cross-validation.\n"
     ]
    },
    {
     "name": "stderr",
     "output_type": "stream",
     "text": [
      "Best trial: 32. Best value: 0.996016:  41%|████      | 41/100 [03:56<13:27, 13.68s/it]"
     ]
    },
    {
     "name": "stdout",
     "output_type": "stream",
     "text": [
      "[I 2024-08-19 16:12:32,378] Trial 40 finished with value: 0.9953840940500742 and parameters: {'max_depth': 8, 'learning_rate': 0.0025054105144770075, 'n_estimators': 934, 'gamma': 4.731565166296497, 'subsample': 0.5970534600384889, 'colsample_bytree': 0.5369178638239782, 'colsample_bylevel': 0.7882842651980877, 'colsample_bynode': 0.6804900612440379, 'min_child_weight': 8, 'scale_pos_weight': 2.2054367361270053, 'reg_alpha': 9.938969625251072, 'reg_lambda': 5.846400066073464, 'max_delta_step': 4}. Best is trial 32 with value: 0.9960156385392465.\n",
      "Starting cross-validation.\n"
     ]
    },
    {
     "name": "stderr",
     "output_type": "stream",
     "text": [
      "Best trial: 32. Best value: 0.996016:  42%|████▏     | 42/100 [04:06<12:05, 12.51s/it]"
     ]
    },
    {
     "name": "stdout",
     "output_type": "stream",
     "text": [
      "[I 2024-08-19 16:12:42,151] Trial 41 finished with value: 0.9960094590173993 and parameters: {'max_depth': 6, 'learning_rate': 0.03704606233750409, 'n_estimators': 835, 'gamma': 4.086992061604851, 'subsample': 0.5298896469962735, 'colsample_bytree': 0.7236638259381013, 'colsample_bylevel': 0.988533993829282, 'colsample_bynode': 0.8594606147388804, 'min_child_weight': 10, 'scale_pos_weight': 1.3966933528018566, 'reg_alpha': 9.370565593257933, 'reg_lambda': 4.228775363014944, 'max_delta_step': 10}. Best is trial 32 with value: 0.9960156385392465.\n",
      "Starting cross-validation.\n"
     ]
    },
    {
     "name": "stderr",
     "output_type": "stream",
     "text": [
      "Best trial: 42. Best value: 0.996019:  43%|████▎     | 43/100 [04:14<10:43, 11.29s/it]"
     ]
    },
    {
     "name": "stdout",
     "output_type": "stream",
     "text": [
      "[I 2024-08-19 16:12:50,603] Trial 42 finished with value: 0.9960189512908837 and parameters: {'max_depth': 5, 'learning_rate': 0.03819324191640743, 'n_estimators': 856, 'gamma': 4.352317642936402, 'subsample': 0.5773762598275038, 'colsample_bytree': 0.6547819402462084, 'colsample_bylevel': 0.9615610450995095, 'colsample_bynode': 0.9342326895114358, 'min_child_weight': 10, 'scale_pos_weight': 1.3855241713880235, 'reg_alpha': 9.138792571785443, 'reg_lambda': 4.432978636881818, 'max_delta_step': 10}. Best is trial 42 with value: 0.9960189512908837.\n",
      "Starting cross-validation.\n"
     ]
    },
    {
     "name": "stderr",
     "output_type": "stream",
     "text": [
      "Best trial: 42. Best value: 0.996019:  44%|████▍     | 44/100 [04:22<09:42, 10.40s/it]"
     ]
    },
    {
     "name": "stdout",
     "output_type": "stream",
     "text": [
      "[I 2024-08-19 16:12:58,924] Trial 43 finished with value: 0.9959299695605208 and parameters: {'max_depth': 7, 'learning_rate': 0.04040169058090752, 'n_estimators': 835, 'gamma': 4.385622398292703, 'subsample': 0.5270246162195374, 'colsample_bytree': 0.6126337912021069, 'colsample_bylevel': 0.9576145702667793, 'colsample_bynode': 0.9352117205585211, 'min_child_weight': 10, 'scale_pos_weight': 1.6471237783315025, 'reg_alpha': 9.511951919299733, 'reg_lambda': 4.178392415091684, 'max_delta_step': 10}. Best is trial 42 with value: 0.9960189512908837.\n",
      "Starting cross-validation.\n"
     ]
    },
    {
     "name": "stderr",
     "output_type": "stream",
     "text": [
      "Best trial: 42. Best value: 0.996019:  45%|████▌     | 45/100 [04:31<08:57,  9.77s/it]"
     ]
    },
    {
     "name": "stdout",
     "output_type": "stream",
     "text": [
      "[I 2024-08-19 16:13:07,233] Trial 44 finished with value: 0.9958384269445911 and parameters: {'max_depth': 6, 'learning_rate': 0.03442865774325633, 'n_estimators': 926, 'gamma': 3.907792373548135, 'subsample': 0.6287429418034256, 'colsample_bytree': 0.7427615391266078, 'colsample_bylevel': 0.9275037495223042, 'colsample_bynode': 0.9304423047321672, 'min_child_weight': 9, 'scale_pos_weight': 2.617504757840386, 'reg_alpha': 7.904904132561277, 'reg_lambda': 3.2167079621113666, 'max_delta_step': 10}. Best is trial 42 with value: 0.9960189512908837.\n",
      "Starting cross-validation.\n"
     ]
    },
    {
     "name": "stderr",
     "output_type": "stream",
     "text": [
      "Best trial: 42. Best value: 0.996019:  46%|████▌     | 46/100 [04:38<08:16,  9.19s/it]"
     ]
    },
    {
     "name": "stdout",
     "output_type": "stream",
     "text": [
      "[I 2024-08-19 16:13:15,056] Trial 45 finished with value: 0.9959578459696259 and parameters: {'max_depth': 4, 'learning_rate': 0.0584075289441452, 'n_estimators': 996, 'gamma': 4.361840284559615, 'subsample': 0.5598807323525555, 'colsample_bytree': 0.6479329950950664, 'colsample_bylevel': 0.9671580765127146, 'colsample_bynode': 0.9552867763848565, 'min_child_weight': 10, 'scale_pos_weight': 1.5922012872095108, 'reg_alpha': 6.944110344180267, 'reg_lambda': 6.808551355109654, 'max_delta_step': 9}. Best is trial 42 with value: 0.9960189512908837.\n",
      "Starting cross-validation.\n"
     ]
    },
    {
     "name": "stderr",
     "output_type": "stream",
     "text": [
      "Best trial: 42. Best value: 0.996019:  47%|████▋     | 47/100 [04:48<08:07,  9.19s/it]"
     ]
    },
    {
     "name": "stdout",
     "output_type": "stream",
     "text": [
      "[I 2024-08-19 16:13:24,270] Trial 46 finished with value: 0.9959075277964404 and parameters: {'max_depth': 5, 'learning_rate': 0.010198361033211383, 'n_estimators': 828, 'gamma': 4.028407573240433, 'subsample': 0.5155005205047648, 'colsample_bytree': 0.6965709579580931, 'colsample_bylevel': 0.9879188184294931, 'colsample_bynode': 0.8670632040960617, 'min_child_weight': 8, 'scale_pos_weight': 2.10639173395081, 'reg_alpha': 5.98443491867132, 'reg_lambda': 5.376814160464837, 'max_delta_step': 10}. Best is trial 42 with value: 0.9960189512908837.\n",
      "Starting cross-validation.\n"
     ]
    },
    {
     "name": "stderr",
     "output_type": "stream",
     "text": [
      "Best trial: 42. Best value: 0.996019:  48%|████▊     | 48/100 [04:53<06:55,  8.00s/it]"
     ]
    },
    {
     "name": "stdout",
     "output_type": "stream",
     "text": [
      "[I 2024-08-19 16:13:29,478] Trial 47 finished with value: 0.9958142086033096 and parameters: {'max_depth': 3, 'learning_rate': 0.08044744138332952, 'n_estimators': 719, 'gamma': 4.570516883788813, 'subsample': 0.5888957275831255, 'colsample_bytree': 0.7608397451644775, 'colsample_bylevel': 0.9196078671837586, 'colsample_bynode': 0.9099090708042635, 'min_child_weight': 9, 'scale_pos_weight': 1.4410311165350131, 'reg_alpha': 9.565436558636403, 'reg_lambda': 4.403073074646783, 'max_delta_step': 9}. Best is trial 42 with value: 0.9960189512908837.\n",
      "Starting cross-validation.\n"
     ]
    },
    {
     "name": "stderr",
     "output_type": "stream",
     "text": [
      "Best trial: 42. Best value: 0.996019:  49%|████▉     | 49/100 [05:01<06:42,  7.90s/it]"
     ]
    },
    {
     "name": "stdout",
     "output_type": "stream",
     "text": [
      "[I 2024-08-19 16:13:37,132] Trial 48 finished with value: 0.9957028667833819 and parameters: {'max_depth': 6, 'learning_rate': 0.027174416880885788, 'n_estimators': 857, 'gamma': 4.719040910273763, 'subsample': 0.6160701630059406, 'colsample_bytree': 0.6520872558358797, 'colsample_bylevel': 0.9978203512194128, 'colsample_bynode': 0.8470771631552786, 'min_child_weight': 2, 'scale_pos_weight': 1.9895313874729192, 'reg_alpha': 8.302843353161578, 'reg_lambda': 3.632381789911153, 'max_delta_step': 7}. Best is trial 42 with value: 0.9960189512908837.\n",
      "Starting cross-validation.\n"
     ]
    },
    {
     "name": "stderr",
     "output_type": "stream",
     "text": [
      "Best trial: 42. Best value: 0.996019:  50%|█████     | 50/100 [05:09<06:37,  7.95s/it]"
     ]
    },
    {
     "name": "stdout",
     "output_type": "stream",
     "text": [
      "[I 2024-08-19 16:13:45,206] Trial 49 finished with value: 0.9959031992948567 and parameters: {'max_depth': 9, 'learning_rate': 0.0411282420182028, 'n_estimators': 903, 'gamma': 4.241423040623627, 'subsample': 0.5449830924303178, 'colsample_bytree': 0.615475561668089, 'colsample_bylevel': 0.8876276315000191, 'colsample_bynode': 0.9708295640608414, 'min_child_weight': 10, 'scale_pos_weight': 3.3929008214549, 'reg_alpha': 9.10051858628799, 'reg_lambda': 5.995325884610623, 'max_delta_step': 8}. Best is trial 42 with value: 0.9960189512908837.\n",
      "Starting cross-validation.\n"
     ]
    },
    {
     "name": "stderr",
     "output_type": "stream",
     "text": [
      "Best trial: 42. Best value: 0.996019:  51%|█████     | 51/100 [05:21<07:41,  9.41s/it]"
     ]
    },
    {
     "name": "stdout",
     "output_type": "stream",
     "text": [
      "[I 2024-08-19 16:13:58,037] Trial 50 finished with value: 0.9958891270820922 and parameters: {'max_depth': 5, 'learning_rate': 0.008924695751676363, 'n_estimators': 958, 'gamma': 3.863198673872454, 'subsample': 0.6764493022256146, 'colsample_bytree': 0.7396497399276836, 'colsample_bylevel': 0.9405973255176187, 'colsample_bynode': 0.9074712691685849, 'min_child_weight': 9, 'scale_pos_weight': 2.614302345372384, 'reg_alpha': 0.8832037196582396, 'reg_lambda': 5.284772980658084, 'max_delta_step': 6}. Best is trial 42 with value: 0.9960189512908837.\n",
      "Starting cross-validation.\n"
     ]
    },
    {
     "name": "stderr",
     "output_type": "stream",
     "text": [
      "Best trial: 42. Best value: 0.996019:  52%|█████▏    | 52/100 [05:28<06:55,  8.67s/it]"
     ]
    },
    {
     "name": "stdout",
     "output_type": "stream",
     "text": [
      "[I 2024-08-19 16:14:04,958] Trial 51 finished with value: 0.9960032717322058 and parameters: {'max_depth': 5, 'learning_rate': 0.02199866247392814, 'n_estimators': 761, 'gamma': 4.940852897922474, 'subsample': 0.5788777348193871, 'colsample_bytree': 0.6659419290882462, 'colsample_bylevel': 0.8388814255795131, 'colsample_bynode': 0.7760654158073542, 'min_child_weight': 10, 'scale_pos_weight': 1.0039523674876631, 'reg_alpha': 9.122122954881576, 'reg_lambda': 4.598473262459631, 'max_delta_step': 6}. Best is trial 42 with value: 0.9960189512908837.\n",
      "Starting cross-validation.\n"
     ]
    },
    {
     "name": "stderr",
     "output_type": "stream",
     "text": [
      "Best trial: 42. Best value: 0.996019:  53%|█████▎    | 53/100 [05:35<06:24,  8.19s/it]"
     ]
    },
    {
     "name": "stdout",
     "output_type": "stream",
     "text": [
      "[I 2024-08-19 16:14:12,040] Trial 52 finished with value: 0.9958357259183834 and parameters: {'max_depth': 4, 'learning_rate': 0.023435118932413505, 'n_estimators': 758, 'gamma': 4.84172210742891, 'subsample': 0.5797032457339794, 'colsample_bytree': 0.5693933070070178, 'colsample_bylevel': 0.8332536568583575, 'colsample_bynode': 0.7682480894355708, 'min_child_weight': 10, 'scale_pos_weight': 1.4178582806343059, 'reg_alpha': 9.798381299651714, 'reg_lambda': 3.8512917440161787, 'max_delta_step': 7}. Best is trial 42 with value: 0.9960189512908837.\n",
      "Starting cross-validation.\n"
     ]
    },
    {
     "name": "stderr",
     "output_type": "stream",
     "text": [
      "Best trial: 53. Best value: 0.996032:  54%|█████▍    | 54/100 [05:43<06:13,  8.12s/it]"
     ]
    },
    {
     "name": "stdout",
     "output_type": "stream",
     "text": [
      "[I 2024-08-19 16:14:19,996] Trial 53 finished with value: 0.996031839380961 and parameters: {'max_depth': 6, 'learning_rate': 0.03838036958116085, 'n_estimators': 693, 'gamma': 4.587361606114207, 'subsample': 0.5521400393185711, 'colsample_bytree': 0.7085972809871517, 'colsample_bylevel': 0.9762262078095922, 'colsample_bynode': 0.8089263302439805, 'min_child_weight': 10, 'scale_pos_weight': 1.3578185346681186, 'reg_alpha': 6.911508169613496, 'reg_lambda': 3.056852596137211, 'max_delta_step': 6}. Best is trial 53 with value: 0.996031839380961.\n",
      "Starting cross-validation.\n"
     ]
    },
    {
     "name": "stderr",
     "output_type": "stream",
     "text": [
      "Best trial: 53. Best value: 0.996032:  55%|█████▌    | 55/100 [05:51<06:03,  8.08s/it]"
     ]
    },
    {
     "name": "stdout",
     "output_type": "stream",
     "text": [
      "[I 2024-08-19 16:14:27,977] Trial 54 finished with value: 0.9958238168829942 and parameters: {'max_depth': 7, 'learning_rate': 0.0587971608562521, 'n_estimators': 605, 'gamma': 4.399920899928506, 'subsample': 0.520418454265102, 'colsample_bytree': 0.702860997113076, 'colsample_bylevel': 0.976519520075896, 'colsample_bynode': 0.7482867776404387, 'min_child_weight': 9, 'scale_pos_weight': 1.875106798837479, 'reg_alpha': 7.022370911626713, 'reg_lambda': 2.230595784290069, 'max_delta_step': 6}. Best is trial 53 with value: 0.996031839380961.\n",
      "Starting cross-validation.\n"
     ]
    },
    {
     "name": "stderr",
     "output_type": "stream",
     "text": [
      "Best trial: 53. Best value: 0.996032:  56%|█████▌    | 56/100 [06:00<06:05,  8.30s/it]"
     ]
    },
    {
     "name": "stdout",
     "output_type": "stream",
     "text": [
      "[I 2024-08-19 16:14:36,788] Trial 55 finished with value: 0.9958731552206995 and parameters: {'max_depth': 6, 'learning_rate': 0.03695429601786088, 'n_estimators': 683, 'gamma': 0.07875176797394179, 'subsample': 0.5467944424038019, 'colsample_bytree': 0.7295644518254307, 'colsample_bylevel': 0.945660996370181, 'colsample_bynode': 0.8161468876428943, 'min_child_weight': 10, 'scale_pos_weight': 1.397892923163868, 'reg_alpha': 7.681802510571034, 'reg_lambda': 3.247572148620489, 'max_delta_step': 9}. Best is trial 53 with value: 0.996031839380961.\n",
      "Starting cross-validation.\n"
     ]
    },
    {
     "name": "stderr",
     "output_type": "stream",
     "text": [
      "Best trial: 53. Best value: 0.996032:  57%|█████▋    | 57/100 [06:08<05:44,  8.02s/it]"
     ]
    },
    {
     "name": "stdout",
     "output_type": "stream",
     "text": [
      "[I 2024-08-19 16:14:44,167] Trial 56 finished with value: 0.9957387693591123 and parameters: {'max_depth': 6, 'learning_rate': 0.04669253802399233, 'n_estimators': 703, 'gamma': 3.5882374048645156, 'subsample': 0.5030945545474558, 'colsample_bytree': 0.6661055970788652, 'colsample_bylevel': 0.9071443032123521, 'colsample_bynode': 0.7071760900929376, 'min_child_weight': 9, 'scale_pos_weight': 2.4035411788045993, 'reg_alpha': 6.604423913328501, 'reg_lambda': 4.573876649679934, 'max_delta_step': 4}. Best is trial 53 with value: 0.996031839380961.\n",
      "Starting cross-validation.\n"
     ]
    },
    {
     "name": "stderr",
     "output_type": "stream",
     "text": [
      "Best trial: 53. Best value: 0.996032:  58%|█████▊    | 58/100 [06:15<05:32,  7.92s/it]"
     ]
    },
    {
     "name": "stdout",
     "output_type": "stream",
     "text": [
      "[I 2024-08-19 16:14:51,856] Trial 57 finished with value: 0.9953306329940677 and parameters: {'max_depth': 4, 'learning_rate': 0.0769562730802406, 'n_estimators': 825, 'gamma': 3.9928230497273334, 'subsample': 0.604822552519624, 'colsample_bytree': 0.701575690094324, 'colsample_bylevel': 0.769369315547345, 'colsample_bynode': 0.8405357965704864, 'min_child_weight': 10, 'scale_pos_weight': 8.768041330604232, 'reg_alpha': 4.781760473655499, 'reg_lambda': 2.4290254012630688, 'max_delta_step': 6}. Best is trial 53 with value: 0.996031839380961.\n",
      "Starting cross-validation.\n"
     ]
    },
    {
     "name": "stderr",
     "output_type": "stream",
     "text": [
      "Best trial: 53. Best value: 0.996032:  59%|█████▉    | 59/100 [06:22<05:04,  7.43s/it]"
     ]
    },
    {
     "name": "stdout",
     "output_type": "stream",
     "text": [
      "[I 2024-08-19 16:14:58,146] Trial 58 finished with value: 0.995842181092123 and parameters: {'max_depth': 7, 'learning_rate': 0.06467492656829921, 'n_estimators': 748, 'gamma': 4.83838816162498, 'subsample': 0.5637285483147119, 'colsample_bytree': 0.7577389571080485, 'colsample_bylevel': 0.8798622377381282, 'colsample_bynode': 0.878243443351646, 'min_child_weight': 6, 'scale_pos_weight': 1.3834931952935472, 'reg_alpha': 5.7797545370542265, 'reg_lambda': 2.9806508779027263, 'max_delta_step': 10}. Best is trial 53 with value: 0.996031839380961.\n",
      "Starting cross-validation.\n"
     ]
    },
    {
     "name": "stderr",
     "output_type": "stream",
     "text": [
      "Best trial: 53. Best value: 0.996032:  60%|██████    | 60/100 [06:29<04:52,  7.31s/it]"
     ]
    },
    {
     "name": "stdout",
     "output_type": "stream",
     "text": [
      "[I 2024-08-19 16:15:05,157] Trial 59 finished with value: 0.9955125352246315 and parameters: {'max_depth': 6, 'learning_rate': 0.05311464814877706, 'n_estimators': 616, 'gamma': 0.553137680494814, 'subsample': 0.9636462099489593, 'colsample_bytree': 0.6248869125378589, 'colsample_bylevel': 0.980194150998058, 'colsample_bynode': 0.7788274379697013, 'min_child_weight': 8, 'scale_pos_weight': 4.839407767600592, 'reg_alpha': 8.120224087105788, 'reg_lambda': 3.735359538225655, 'max_delta_step': 6}. Best is trial 53 with value: 0.996031839380961.\n",
      "Starting cross-validation.\n"
     ]
    },
    {
     "name": "stderr",
     "output_type": "stream",
     "text": [
      "Best trial: 53. Best value: 0.996032:  61%|██████    | 61/100 [06:39<05:26,  8.37s/it]"
     ]
    },
    {
     "name": "stdout",
     "output_type": "stream",
     "text": [
      "[I 2024-08-19 16:15:15,993] Trial 60 finished with value: 0.9953380093862506 and parameters: {'max_depth': 12, 'learning_rate': 0.0026783987588197833, 'n_estimators': 813, 'gamma': 4.204428125261139, 'subsample': 0.6321037512155806, 'colsample_bytree': 0.7287139511190414, 'colsample_bylevel': 0.8444004757722609, 'colsample_bynode': 0.7557269650198845, 'min_child_weight': 9, 'scale_pos_weight': 6.905584199829068, 'reg_alpha': 7.2878183735413975, 'reg_lambda': 4.122363715268915, 'max_delta_step': 5}. Best is trial 53 with value: 0.996031839380961.\n",
      "Starting cross-validation.\n"
     ]
    },
    {
     "name": "stderr",
     "output_type": "stream",
     "text": [
      "Best trial: 53. Best value: 0.996032:  62%|██████▏   | 62/100 [06:47<05:10,  8.18s/it]"
     ]
    },
    {
     "name": "stdout",
     "output_type": "stream",
     "text": [
      "[I 2024-08-19 16:15:23,749] Trial 61 finished with value: 0.9959672272520514 and parameters: {'max_depth': 5, 'learning_rate': 0.011150128459816774, 'n_estimators': 846, 'gamma': 4.5238558654549275, 'subsample': 0.5498292261310778, 'colsample_bytree': 0.5941859367999394, 'colsample_bylevel': 0.9610895559076412, 'colsample_bynode': 0.8081200848861334, 'min_child_weight': 10, 'scale_pos_weight': 1.277048832954438, 'reg_alpha': 8.713202700091228, 'reg_lambda': 5.131222723554281, 'max_delta_step': 7}. Best is trial 53 with value: 0.996031839380961.\n",
      "Starting cross-validation.\n"
     ]
    },
    {
     "name": "stderr",
     "output_type": "stream",
     "text": [
      "Best trial: 53. Best value: 0.996032:  63%|██████▎   | 63/100 [06:55<05:02,  8.19s/it]"
     ]
    },
    {
     "name": "stdout",
     "output_type": "stream",
     "text": [
      "[I 2024-08-19 16:15:31,942] Trial 62 finished with value: 0.9958789942047614 and parameters: {'max_depth': 5, 'learning_rate': 0.024489696731529908, 'n_estimators': 873, 'gamma': 4.783341891015007, 'subsample': 0.5850182037159829, 'colsample_bytree': 0.6568638435972378, 'colsample_bylevel': 0.910888978256583, 'colsample_bynode': 0.7848886557527008, 'min_child_weight': 10, 'scale_pos_weight': 1.923827317941314, 'reg_alpha': 9.219815751113433, 'reg_lambda': 5.636568898441836, 'max_delta_step': 7}. Best is trial 53 with value: 0.996031839380961.\n",
      "Starting cross-validation.\n"
     ]
    },
    {
     "name": "stderr",
     "output_type": "stream",
     "text": [
      "Best trial: 53. Best value: 0.996032:  64%|██████▍   | 64/100 [07:01<04:31,  7.53s/it]"
     ]
    },
    {
     "name": "stdout",
     "output_type": "stream",
     "text": [
      "[I 2024-08-19 16:15:37,942] Trial 63 finished with value: 0.9960080624264048 and parameters: {'max_depth': 4, 'learning_rate': 0.09049183434917236, 'n_estimators': 762, 'gamma': 4.608332627599143, 'subsample': 0.5254254508539736, 'colsample_bytree': 0.6316588312141935, 'colsample_bylevel': 0.9456004627426359, 'colsample_bynode': 0.8266559234530089, 'min_child_weight': 10, 'scale_pos_weight': 1.013901897309168, 'reg_alpha': 9.661730142876811, 'reg_lambda': 4.374485853656135, 'max_delta_step': 5}. Best is trial 53 with value: 0.996031839380961.\n",
      "Starting cross-validation.\n"
     ]
    },
    {
     "name": "stderr",
     "output_type": "stream",
     "text": [
      "Best trial: 53. Best value: 0.996032:  65%|██████▌   | 65/100 [07:08<04:11,  7.19s/it]"
     ]
    },
    {
     "name": "stdout",
     "output_type": "stream",
     "text": [
      "[I 2024-08-19 16:15:44,331] Trial 64 finished with value: 0.9955571292947996 and parameters: {'max_depth': 4, 'learning_rate': 0.08816895752240086, 'n_estimators': 763, 'gamma': 4.994071497470133, 'subsample': 0.5254497445723859, 'colsample_bytree': 0.63338707638628, 'colsample_bylevel': 0.9994672759357874, 'colsample_bynode': 0.8202115021868064, 'min_child_weight': 4, 'scale_pos_weight': 2.8910543599171783, 'reg_alpha': 6.395018836525927, 'reg_lambda': 4.358845144748485, 'max_delta_step': 5}. Best is trial 53 with value: 0.996031839380961.\n",
      "Starting cross-validation.\n"
     ]
    },
    {
     "name": "stderr",
     "output_type": "stream",
     "text": [
      "Best trial: 53. Best value: 0.996032:  66%|██████▌   | 66/100 [07:14<03:56,  6.94s/it]"
     ]
    },
    {
     "name": "stdout",
     "output_type": "stream",
     "text": [
      "[I 2024-08-19 16:15:50,706] Trial 65 finished with value: 0.9959697073613448 and parameters: {'max_depth': 3, 'learning_rate': 0.030418892759699643, 'n_estimators': 699, 'gamma': 4.535627486331641, 'subsample': 0.563448466106743, 'colsample_bytree': 0.6891351808560399, 'colsample_bylevel': 0.9457387729914242, 'colsample_bynode': 0.849298269498661, 'min_child_weight': 9, 'scale_pos_weight': 1.0020430200606865, 'reg_alpha': 8.359182557357649, 'reg_lambda': 4.775239223804734, 'max_delta_step': 4}. Best is trial 53 with value: 0.996031839380961.\n",
      "Starting cross-validation.\n"
     ]
    },
    {
     "name": "stderr",
     "output_type": "stream",
     "text": [
      "Best trial: 53. Best value: 0.996032:  67%|██████▋   | 67/100 [07:21<03:47,  6.91s/it]"
     ]
    },
    {
     "name": "stdout",
     "output_type": "stream",
     "text": [
      "[I 2024-08-19 16:15:57,531] Trial 66 finished with value: 0.9956730878466917 and parameters: {'max_depth': 4, 'learning_rate': 0.15297934326401752, 'n_estimators': 733, 'gamma': 2.9883274757472753, 'subsample': 0.5388479905389438, 'colsample_bytree': 0.7132169375622526, 'colsample_bylevel': 0.7440210114632845, 'colsample_bynode': 0.9063451001107536, 'min_child_weight': 10, 'scale_pos_weight': 2.2613145738483693, 'reg_alpha': 8.991096522852105, 'reg_lambda': 3.90523558294355, 'max_delta_step': 5}. Best is trial 53 with value: 0.996031839380961.\n",
      "Starting cross-validation.\n"
     ]
    },
    {
     "name": "stderr",
     "output_type": "stream",
     "text": [
      "Best trial: 53. Best value: 0.996032:  68%|██████▊   | 68/100 [07:29<03:51,  7.24s/it]"
     ]
    },
    {
     "name": "stdout",
     "output_type": "stream",
     "text": [
      "[I 2024-08-19 16:16:05,560] Trial 67 finished with value: 0.9958864093955864 and parameters: {'max_depth': 6, 'learning_rate': 0.043439324888888554, 'n_estimators': 807, 'gamma': 4.344791257865937, 'subsample': 0.516997181865014, 'colsample_bytree': 0.6658243624073944, 'colsample_bylevel': 0.9738687976175996, 'colsample_bynode': 0.8309115533980702, 'min_child_weight': 9, 'scale_pos_weight': 1.5799950985223616, 'reg_alpha': 5.304554641086789, 'reg_lambda': 3.0164810524624004, 'max_delta_step': 8}. Best is trial 53 with value: 0.996031839380961.\n",
      "Starting cross-validation.\n"
     ]
    },
    {
     "name": "stderr",
     "output_type": "stream",
     "text": [
      "Best trial: 53. Best value: 0.996032:  69%|██████▉   | 69/100 [07:37<03:49,  7.41s/it]"
     ]
    },
    {
     "name": "stdout",
     "output_type": "stream",
     "text": [
      "[I 2024-08-19 16:16:13,363] Trial 68 finished with value: 0.9959821732444191 and parameters: {'max_depth': 3, 'learning_rate': 0.095081532239485, 'n_estimators': 910, 'gamma': 4.08119639232537, 'subsample': 0.6148565636679696, 'colsample_bytree': 0.7781634985665958, 'colsample_bylevel': 0.8805589449246204, 'colsample_bynode': 0.8564513626195206, 'min_child_weight': 10, 'scale_pos_weight': 1.319505041352593, 'reg_alpha': 8.755041358950992, 'reg_lambda': 3.5557441381152937, 'max_delta_step': 6}. Best is trial 53 with value: 0.996031839380961.\n",
      "Starting cross-validation.\n"
     ]
    },
    {
     "name": "stderr",
     "output_type": "stream",
     "text": [
      "Best trial: 53. Best value: 0.996032:  70%|███████   | 70/100 [07:44<03:43,  7.46s/it]"
     ]
    },
    {
     "name": "stdout",
     "output_type": "stream",
     "text": [
      "[I 2024-08-19 16:16:20,918] Trial 69 finished with value: 0.9959699176167494 and parameters: {'max_depth': 5, 'learning_rate': 0.035077068636850825, 'n_estimators': 776, 'gamma': 4.805699300407032, 'subsample': 0.602476090688403, 'colsample_bytree': 0.6365820427995947, 'colsample_bylevel': 0.9524711243997108, 'colsample_bynode': 0.8855241018321889, 'min_child_weight': 10, 'scale_pos_weight': 1.8609555078704805, 'reg_alpha': 7.588097454542978, 'reg_lambda': 4.466539533840532, 'max_delta_step': 5}. Best is trial 53 with value: 0.996031839380961.\n",
      "Starting cross-validation.\n"
     ]
    },
    {
     "name": "stderr",
     "output_type": "stream",
     "text": [
      "Best trial: 53. Best value: 0.996032:  71%|███████   | 71/100 [07:51<03:31,  7.29s/it]"
     ]
    },
    {
     "name": "stdout",
     "output_type": "stream",
     "text": [
      "[I 2024-08-19 16:16:27,811] Trial 70 finished with value: 0.995726080918117 and parameters: {'max_depth': 8, 'learning_rate': 0.05238808710596096, 'n_estimators': 614, 'gamma': 4.562779291598426, 'subsample': 0.7740633477184355, 'colsample_bytree': 0.682323274535768, 'colsample_bylevel': 0.826573674850072, 'colsample_bynode': 0.741067999915047, 'min_child_weight': 9, 'scale_pos_weight': 8.233360258765325, 'reg_alpha': 9.619448319771518, 'reg_lambda': 4.8749170630367855, 'max_delta_step': 10}. Best is trial 53 with value: 0.996031839380961.\n",
      "Starting cross-validation.\n"
     ]
    },
    {
     "name": "stderr",
     "output_type": "stream",
     "text": [
      "Best trial: 53. Best value: 0.996032:  72%|███████▏  | 72/100 [08:00<03:38,  7.81s/it]"
     ]
    },
    {
     "name": "stdout",
     "output_type": "stream",
     "text": [
      "[I 2024-08-19 16:16:36,847] Trial 71 finished with value: 0.9959524661064469 and parameters: {'max_depth': 5, 'learning_rate': 0.017166793501020496, 'n_estimators': 863, 'gamma': 4.702797965359258, 'subsample': 0.5747806686489824, 'colsample_bytree': 0.6044489381707983, 'colsample_bylevel': 0.9373208547241211, 'colsample_bynode': 0.8088517092444649, 'min_child_weight': 10, 'scale_pos_weight': 1.0303913886907063, 'reg_alpha': 9.725755428318104, 'reg_lambda': 5.1091716450030145, 'max_delta_step': 6}. Best is trial 53 with value: 0.996031839380961.\n",
      "Starting cross-validation.\n"
     ]
    },
    {
     "name": "stderr",
     "output_type": "stream",
     "text": [
      "Best trial: 53. Best value: 0.996032:  73%|███████▎  | 73/100 [08:10<03:47,  8.43s/it]"
     ]
    },
    {
     "name": "stdout",
     "output_type": "stream",
     "text": [
      "[I 2024-08-19 16:16:46,717] Trial 72 finished with value: 0.9958876418353018 and parameters: {'max_depth': 4, 'learning_rate': 0.008918805597468249, 'n_estimators': 960, 'gamma': 4.589469024507437, 'subsample': 0.5560207533612586, 'colsample_bytree': 0.5843416772724025, 'colsample_bylevel': 0.9230187116569561, 'colsample_bynode': 0.7156426568599801, 'min_child_weight': 10, 'scale_pos_weight': 1.318159434137038, 'reg_alpha': 9.29893225736988, 'reg_lambda': 6.44435375145916, 'max_delta_step': 9}. Best is trial 53 with value: 0.996031839380961.\n",
      "Starting cross-validation.\n"
     ]
    },
    {
     "name": "stderr",
     "output_type": "stream",
     "text": [
      "Best trial: 53. Best value: 0.996032:  74%|███████▍  | 74/100 [08:14<03:04,  7.08s/it]"
     ]
    },
    {
     "name": "stdout",
     "output_type": "stream",
     "text": [
      "[I 2024-08-19 16:16:50,656] Trial 73 finished with value: 0.9958764374159047 and parameters: {'max_depth': 10, 'learning_rate': 0.10954481563095556, 'n_estimators': 526, 'gamma': 4.269978332279377, 'subsample': 0.5842400324060749, 'colsample_bytree': 0.625668371662005, 'colsample_bylevel': 0.8934852919431936, 'colsample_bynode': 0.7614482526030886, 'min_child_weight': 10, 'scale_pos_weight': 1.579729860466435, 'reg_alpha': 8.575700244136687, 'reg_lambda': 5.493905644760217, 'max_delta_step': 5}. Best is trial 53 with value: 0.996031839380961.\n",
      "Starting cross-validation.\n"
     ]
    },
    {
     "name": "stderr",
     "output_type": "stream",
     "text": [
      "Best trial: 53. Best value: 0.996032:  75%|███████▌  | 75/100 [08:20<02:51,  6.85s/it]"
     ]
    },
    {
     "name": "stdout",
     "output_type": "stream",
     "text": [
      "[I 2024-08-19 16:16:56,982] Trial 74 finished with value: 0.9958589601032843 and parameters: {'max_depth': 5, 'learning_rate': 0.028208065836847915, 'n_estimators': 784, 'gamma': 4.888749961495064, 'subsample': 0.8479206677062738, 'colsample_bytree': 0.7101387864483351, 'colsample_bylevel': 0.9163708563615777, 'colsample_bynode': 0.7823230371407733, 'min_child_weight': 10, 'scale_pos_weight': 1.0150625676025438, 'reg_alpha': 9.980682520273609, 'reg_lambda': 6.153590534259662, 'max_delta_step': 7}. Best is trial 53 with value: 0.996031839380961.\n",
      "Starting cross-validation.\n"
     ]
    },
    {
     "name": "stderr",
     "output_type": "stream",
     "text": [
      "Best trial: 53. Best value: 0.996032:  76%|███████▌  | 76/100 [08:30<03:04,  7.69s/it]"
     ]
    },
    {
     "name": "stdout",
     "output_type": "stream",
     "text": [
      "[I 2024-08-19 16:17:06,630] Trial 75 finished with value: 0.9957825559663618 and parameters: {'max_depth': 6, 'learning_rate': 0.021257833171796456, 'n_estimators': 854, 'gamma': 4.691111774171828, 'subsample': 0.5347705666549112, 'colsample_bytree': 0.6543751028048814, 'colsample_bylevel': 0.9658363694030903, 'colsample_bynode': 0.8318733901520311, 'min_child_weight': 9, 'scale_pos_weight': 5.770895899818504, 'reg_alpha': 3.557058810121973, 'reg_lambda': 7.328976823482626, 'max_delta_step': 6}. Best is trial 53 with value: 0.996031839380961.\n",
      "Starting cross-validation.\n"
     ]
    },
    {
     "name": "stderr",
     "output_type": "stream",
     "text": [
      "Best trial: 53. Best value: 0.996032:  77%|███████▋  | 77/100 [08:36<02:48,  7.31s/it]"
     ]
    },
    {
     "name": "stdout",
     "output_type": "stream",
     "text": [
      "[I 2024-08-19 16:17:13,057] Trial 76 finished with value: 0.995751921525374 and parameters: {'max_depth': 4, 'learning_rate': 0.1337849620715637, 'n_estimators': 811, 'gamma': 4.412501900188768, 'subsample': 0.5709888630304727, 'colsample_bytree': 0.6729285718513006, 'colsample_bylevel': 0.984706507400234, 'colsample_bynode': 0.6805677892510889, 'min_child_weight': 10, 'scale_pos_weight': 1.7610931972958386, 'reg_alpha': 8.088091479545776, 'reg_lambda': 2.6747858061444445, 'max_delta_step': 5}. Best is trial 53 with value: 0.996031839380961.\n",
      "Starting cross-validation.\n"
     ]
    },
    {
     "name": "stderr",
     "output_type": "stream",
     "text": [
      "Best trial: 53. Best value: 0.996032:  78%|███████▊  | 78/100 [08:43<02:38,  7.18s/it]"
     ]
    },
    {
     "name": "stdout",
     "output_type": "stream",
     "text": [
      "[I 2024-08-19 16:17:19,935] Trial 77 finished with value: 0.9959268534552447 and parameters: {'max_depth': 7, 'learning_rate': 0.034819610599152694, 'n_estimators': 745, 'gamma': 4.651363539668205, 'subsample': 0.5115642838443607, 'colsample_bytree': 0.5588035990603768, 'colsample_bylevel': 0.9423062925062603, 'colsample_bynode': 0.8087758445011001, 'min_child_weight': 10, 'scale_pos_weight': 1.2614076322745658, 'reg_alpha': 9.004018738208899, 'reg_lambda': 4.33799664516739, 'max_delta_step': 4}. Best is trial 53 with value: 0.996031839380961.\n",
      "Starting cross-validation.\n"
     ]
    },
    {
     "name": "stderr",
     "output_type": "stream",
     "text": [
      "Best trial: 53. Best value: 0.996032:  79%|███████▉  | 79/100 [08:54<02:52,  8.21s/it]"
     ]
    },
    {
     "name": "stdout",
     "output_type": "stream",
     "text": [
      "[I 2024-08-19 16:17:30,536] Trial 78 finished with value: 0.995883280405816 and parameters: {'max_depth': 5, 'learning_rate': 0.017329738993498527, 'n_estimators': 890, 'gamma': 3.7288536236155174, 'subsample': 0.5975256978800381, 'colsample_bytree': 0.6910654875006501, 'colsample_bylevel': 0.9661598850387803, 'colsample_bynode': 0.7956312670093983, 'min_child_weight': 9, 'scale_pos_weight': 2.300100622285414, 'reg_alpha': 9.423263726230687, 'reg_lambda': 3.962169722873841, 'max_delta_step': 6}. Best is trial 53 with value: 0.996031839380961.\n",
      "Starting cross-validation.\n"
     ]
    },
    {
     "name": "stderr",
     "output_type": "stream",
     "text": [
      "Best trial: 53. Best value: 0.996032:  80%|████████  | 80/100 [09:04<02:53,  8.66s/it]"
     ]
    },
    {
     "name": "stdout",
     "output_type": "stream",
     "text": [
      "[I 2024-08-19 16:17:40,257] Trial 79 finished with value: 0.9958332799845195 and parameters: {'max_depth': 6, 'learning_rate': 0.012097343162476293, 'n_estimators': 678, 'gamma': 4.1501960369936866, 'subsample': 0.6264437464988387, 'colsample_bytree': 0.5278500058552432, 'colsample_bylevel': 0.9311210972756532, 'colsample_bynode': 0.8597937662345112, 'min_child_weight': 8, 'scale_pos_weight': 2.0156000519448476, 'reg_alpha': 9.66490699544097, 'reg_lambda': 4.7036661167520215, 'max_delta_step': 10}. Best is trial 53 with value: 0.996031839380961.\n",
      "Starting cross-validation.\n"
     ]
    },
    {
     "name": "stderr",
     "output_type": "stream",
     "text": [
      "Best trial: 53. Best value: 0.996032:  81%|████████  | 81/100 [09:11<02:37,  8.30s/it]"
     ]
    },
    {
     "name": "stdout",
     "output_type": "stream",
     "text": [
      "[I 2024-08-19 16:17:47,709] Trial 80 finished with value: 0.995691154095603 and parameters: {'max_depth': 5, 'learning_rate': 0.17306632848826653, 'n_estimators': 793, 'gamma': 4.879152136066928, 'subsample': 0.549886350003628, 'colsample_bytree': 0.6408665914345167, 'colsample_bylevel': 0.9521876092532676, 'colsample_bynode': 0.7730189518410341, 'min_child_weight': 10, 'scale_pos_weight': 1.5494886489935222, 'reg_alpha': 6.073556968681893, 'reg_lambda': 5.845929969193529, 'max_delta_step': 4}. Best is trial 53 with value: 0.996031839380961.\n",
      "Starting cross-validation.\n"
     ]
    },
    {
     "name": "stderr",
     "output_type": "stream",
     "text": [
      "Best trial: 53. Best value: 0.996032:  82%|████████▏ | 82/100 [09:19<02:25,  8.08s/it]"
     ]
    },
    {
     "name": "stdout",
     "output_type": "stream",
     "text": [
      "[I 2024-08-19 16:17:55,292] Trial 81 finished with value: 0.9960255279159442 and parameters: {'max_depth': 3, 'learning_rate': 0.06902475933487642, 'n_estimators': 922, 'gamma': 4.105300560222835, 'subsample': 0.6155334713537568, 'colsample_bytree': 0.7798658390339646, 'colsample_bylevel': 0.8763561183623739, 'colsample_bynode': 0.8714268797135093, 'min_child_weight': 10, 'scale_pos_weight': 1.2398137170669428, 'reg_alpha': 8.784854395018188, 'reg_lambda': 3.7399316307919035, 'max_delta_step': 6}. Best is trial 53 with value: 0.996031839380961.\n",
      "Starting cross-validation.\n"
     ]
    },
    {
     "name": "stderr",
     "output_type": "stream",
     "text": [
      "Best trial: 53. Best value: 0.996032:  83%|████████▎ | 83/100 [09:27<02:18,  8.13s/it]"
     ]
    },
    {
     "name": "stdout",
     "output_type": "stream",
     "text": [
      "[I 2024-08-19 16:18:03,535] Trial 82 finished with value: 0.9959070642739511 and parameters: {'max_depth': 3, 'learning_rate': 0.0676020684286135, 'n_estimators': 924, 'gamma': 4.448706393015394, 'subsample': 0.5664389080636003, 'colsample_bytree': 0.8010945460651876, 'colsample_bylevel': 0.8473818967083109, 'colsample_bynode': 0.9217147778539574, 'min_child_weight': 10, 'scale_pos_weight': 1.2304604297666368, 'reg_alpha': 9.1744787386721, 'reg_lambda': 3.2828024114862435, 'max_delta_step': 6}. Best is trial 53 with value: 0.996031839380961.\n",
      "Starting cross-validation.\n"
     ]
    },
    {
     "name": "stderr",
     "output_type": "stream",
     "text": [
      "Best trial: 53. Best value: 0.996032:  84%|████████▍ | 84/100 [09:35<02:10,  8.16s/it]"
     ]
    },
    {
     "name": "stdout",
     "output_type": "stream",
     "text": [
      "[I 2024-08-19 16:18:11,773] Trial 83 finished with value: 0.9957698847221208 and parameters: {'max_depth': 4, 'learning_rate': 0.07612275070207938, 'n_estimators': 971, 'gamma': 3.9356478678149123, 'subsample': 0.6455202992545641, 'colsample_bytree': 0.7924233044438732, 'colsample_bylevel': 0.8738590100862953, 'colsample_bynode': 0.873351212892837, 'min_child_weight': 10, 'scale_pos_weight': 1.7518942438328482, 'reg_alpha': 8.344565586609063, 'reg_lambda': 4.217073062409227, 'max_delta_step': 7}. Best is trial 53 with value: 0.996031839380961.\n",
      "Starting cross-validation.\n"
     ]
    },
    {
     "name": "stderr",
     "output_type": "stream",
     "text": [
      "Best trial: 53. Best value: 0.996032:  85%|████████▌ | 85/100 [09:42<01:58,  7.89s/it]"
     ]
    },
    {
     "name": "stdout",
     "output_type": "stream",
     "text": [
      "[I 2024-08-19 16:18:19,027] Trial 84 finished with value: 0.9958961009167725 and parameters: {'max_depth': 3, 'learning_rate': 0.09665833712146003, 'n_estimators': 829, 'gamma': 4.998473821603607, 'subsample': 0.5251784726881593, 'colsample_bytree': 0.6576703996195041, 'colsample_bylevel': 0.896937266623558, 'colsample_bynode': 0.9496478510677919, 'min_child_weight': 9, 'scale_pos_weight': 1.4787318441535162, 'reg_alpha': 6.790890409770648, 'reg_lambda': 3.466657448342212, 'max_delta_step': 6}. Best is trial 53 with value: 0.996031839380961.\n",
      "Starting cross-validation.\n"
     ]
    },
    {
     "name": "stderr",
     "output_type": "stream",
     "text": [
      "Best trial: 85. Best value: 0.996084:  86%|████████▌ | 86/100 [09:49<01:44,  7.46s/it]"
     ]
    },
    {
     "name": "stdout",
     "output_type": "stream",
     "text": [
      "[I 2024-08-19 16:18:25,484] Trial 85 finished with value: 0.9960839276533298 and parameters: {'max_depth': 15, 'learning_rate': 0.08561001804950044, 'n_estimators': 710, 'gamma': 4.3130810261428385, 'subsample': 0.5912307921737588, 'colsample_bytree': 0.827648299944596, 'colsample_bylevel': 0.8645044643016258, 'colsample_bynode': 0.8948538181909136, 'min_child_weight': 10, 'scale_pos_weight': 1.1734695188379878, 'reg_alpha': 7.277321059668214, 'reg_lambda': 5.126906713495569, 'max_delta_step': 5}. Best is trial 85 with value: 0.9960839276533298.\n",
      "Starting cross-validation.\n"
     ]
    },
    {
     "name": "stderr",
     "output_type": "stream",
     "text": [
      "Best trial: 85. Best value: 0.996084:  87%|████████▋ | 87/100 [09:55<01:31,  7.02s/it]"
     ]
    },
    {
     "name": "stdout",
     "output_type": "stream",
     "text": [
      "[I 2024-08-19 16:18:31,476] Trial 86 finished with value: 0.9959566466471873 and parameters: {'max_depth': 14, 'learning_rate': 0.08964549741998995, 'n_estimators': 716, 'gamma': 4.304871917722446, 'subsample': 0.5904893809887086, 'colsample_bytree': 0.7444690635229481, 'colsample_bylevel': 0.8511619425599157, 'colsample_bynode': 0.8959233442881284, 'min_child_weight': 10, 'scale_pos_weight': 1.2328241996016183, 'reg_alpha': 7.151411507142258, 'reg_lambda': 5.306389557186335, 'max_delta_step': 5}. Best is trial 85 with value: 0.9960839276533298.\n",
      "Starting cross-validation.\n"
     ]
    },
    {
     "name": "stderr",
     "output_type": "stream",
     "text": [
      "Best trial: 85. Best value: 0.996084:  88%|████████▊ | 88/100 [10:02<01:25,  7.10s/it]"
     ]
    },
    {
     "name": "stdout",
     "output_type": "stream",
     "text": [
      "[I 2024-08-19 16:18:38,756] Trial 87 finished with value: 0.995726676883508 and parameters: {'max_depth': 15, 'learning_rate': 0.08378784381359651, 'n_estimators': 765, 'gamma': 3.5210759357548893, 'subsample': 0.6167723426039328, 'colsample_bytree': 0.8437780531969267, 'colsample_bylevel': 0.8041986369023713, 'colsample_bynode': 0.8399397179362104, 'min_child_weight': 9, 'scale_pos_weight': 2.176353156386223, 'reg_alpha': 7.844876189918224, 'reg_lambda': 4.999166586350561, 'max_delta_step': 5}. Best is trial 85 with value: 0.9960839276533298.\n",
      "Starting cross-validation.\n"
     ]
    },
    {
     "name": "stderr",
     "output_type": "stream",
     "text": [
      "Best trial: 85. Best value: 0.996084:  89%|████████▉ | 89/100 [10:08<01:13,  6.72s/it]"
     ]
    },
    {
     "name": "stdout",
     "output_type": "stream",
     "text": [
      "[I 2024-08-19 16:18:44,609] Trial 88 finished with value: 0.9959730699566285 and parameters: {'max_depth': 12, 'learning_rate': 0.10878919356772615, 'n_estimators': 638, 'gamma': 3.805109643081758, 'subsample': 0.5391851686527797, 'colsample_bytree': 0.8680614102709556, 'colsample_bylevel': 0.8229385501421601, 'colsample_bynode': 0.9775012553930019, 'min_child_weight': 10, 'scale_pos_weight': 1.8318714094132296, 'reg_alpha': 7.491700330512849, 'reg_lambda': 4.557137596583005, 'max_delta_step': 5}. Best is trial 85 with value: 0.9960839276533298.\n",
      "Starting cross-validation.\n"
     ]
    },
    {
     "name": "stderr",
     "output_type": "stream",
     "text": [
      "Best trial: 85. Best value: 0.996084:  90%|█████████ | 90/100 [10:14<01:05,  6.57s/it]"
     ]
    },
    {
     "name": "stdout",
     "output_type": "stream",
     "text": [
      "[I 2024-08-19 16:18:50,805] Trial 89 finished with value: 0.9958577170842664 and parameters: {'max_depth': 4, 'learning_rate': 0.07292888619544463, 'n_estimators': 695, 'gamma': 4.081047217180149, 'subsample': 0.6690989010866245, 'colsample_bytree': 0.7296304069338225, 'colsample_bylevel': 0.8707239536868785, 'colsample_bynode': 0.8910386924193858, 'min_child_weight': 9, 'scale_pos_weight': 2.7817663996781916, 'reg_alpha': 8.855409747789702, 'reg_lambda': 3.815262865538695, 'max_delta_step': 3}. Best is trial 85 with value: 0.9960839276533298.\n",
      "Starting cross-validation.\n"
     ]
    },
    {
     "name": "stderr",
     "output_type": "stream",
     "text": [
      "Best trial: 85. Best value: 0.996084:  91%|█████████ | 91/100 [10:21<00:58,  6.56s/it]"
     ]
    },
    {
     "name": "stdout",
     "output_type": "stream",
     "text": [
      "[I 2024-08-19 16:18:57,334] Trial 90 finished with value: 0.99586789748599 and parameters: {'max_depth': 10, 'learning_rate': 0.08471651171403387, 'n_estimators': 735, 'gamma': 3.2423709840106323, 'subsample': 0.5568551284775236, 'colsample_bytree': 0.7733489333123218, 'colsample_bylevel': 0.7851972578551563, 'colsample_bynode': 0.9222222159598017, 'min_child_weight': 10, 'scale_pos_weight': 1.4833849367394962, 'reg_alpha': 6.7600528470799865, 'reg_lambda': 4.069323039668944, 'max_delta_step': 4}. Best is trial 85 with value: 0.9960839276533298.\n",
      "Starting cross-validation.\n"
     ]
    },
    {
     "name": "stderr",
     "output_type": "stream",
     "text": [
      "Best trial: 85. Best value: 0.996084:  92%|█████████▏| 92/100 [10:29<00:56,  7.09s/it]"
     ]
    },
    {
     "name": "stdout",
     "output_type": "stream",
     "text": [
      "[I 2024-08-19 16:19:05,684] Trial 91 finished with value: 0.996038440328002 and parameters: {'max_depth': 5, 'learning_rate': 0.02509501449791539, 'n_estimators': 838, 'gamma': 4.630138462252456, 'subsample': 0.5794434971695543, 'colsample_bytree': 0.8216858933707955, 'colsample_bylevel': 0.9109651670523475, 'colsample_bynode': 0.8002363065509143, 'min_child_weight': 10, 'scale_pos_weight': 1.0217099246233614, 'reg_alpha': 9.803048733185232, 'reg_lambda': 4.558160041087358, 'max_delta_step': 6}. Best is trial 85 with value: 0.9960839276533298.\n",
      "Starting cross-validation.\n"
     ]
    },
    {
     "name": "stderr",
     "output_type": "stream",
     "text": [
      "Best trial: 85. Best value: 0.996084:  93%|█████████▎| 93/100 [10:37<00:50,  7.19s/it]"
     ]
    },
    {
     "name": "stdout",
     "output_type": "stream",
     "text": [
      "[I 2024-08-19 16:19:13,100] Trial 92 finished with value: 0.9960188030299323 and parameters: {'max_depth': 14, 'learning_rate': 0.04376760037954841, 'n_estimators': 847, 'gamma': 4.480865922590218, 'subsample': 0.6021765951881973, 'colsample_bytree': 0.8169295983513692, 'colsample_bylevel': 0.8616717125358596, 'colsample_bynode': 0.828018213112602, 'min_child_weight': 10, 'scale_pos_weight': 1.188476562362631, 'reg_alpha': 8.598744000633149, 'reg_lambda': 4.5850928121312995, 'max_delta_step': 6}. Best is trial 85 with value: 0.9960839276533298.\n",
      "Starting cross-validation.\n"
     ]
    },
    {
     "name": "stderr",
     "output_type": "stream",
     "text": [
      "Best trial: 85. Best value: 0.996084:  94%|█████████▍| 94/100 [10:44<00:44,  7.37s/it]"
     ]
    },
    {
     "name": "stdout",
     "output_type": "stream",
     "text": [
      "[I 2024-08-19 16:19:20,884] Trial 93 finished with value: 0.9959921235656235 and parameters: {'max_depth': 14, 'learning_rate': 0.05369756496778893, 'n_estimators': 899, 'gamma': 4.4658271480108205, 'subsample': 0.6070006313500397, 'colsample_bytree': 0.8145649626577061, 'colsample_bylevel': 0.9107315798193741, 'colsample_bynode': 0.8234320383488258, 'min_child_weight': 10, 'scale_pos_weight': 1.199941226499164, 'reg_alpha': 8.57120376188853, 'reg_lambda': 4.4572668525509815, 'max_delta_step': 6}. Best is trial 85 with value: 0.9960839276533298.\n",
      "Starting cross-validation.\n"
     ]
    },
    {
     "name": "stderr",
     "output_type": "stream",
     "text": [
      "Best trial: 85. Best value: 0.996084:  95%|█████████▌| 95/100 [10:54<00:40,  8.12s/it]"
     ]
    },
    {
     "name": "stdout",
     "output_type": "stream",
     "text": [
      "[I 2024-08-19 16:19:30,774] Trial 94 finished with value: 0.9958826161891379 and parameters: {'max_depth': 15, 'learning_rate': 0.06320130521803848, 'n_estimators': 845, 'gamma': 1.851991663943089, 'subsample': 0.6407225457473683, 'colsample_bytree': 0.8258360704127987, 'colsample_bylevel': 0.8851207915293802, 'colsample_bynode': 0.87011077503401, 'min_child_weight': 10, 'scale_pos_weight': 1.47460558519968, 'reg_alpha': 9.419532331557617, 'reg_lambda': 5.213763202742755, 'max_delta_step': 6}. Best is trial 85 with value: 0.9960839276533298.\n",
      "Starting cross-validation.\n"
     ]
    },
    {
     "name": "stderr",
     "output_type": "stream",
     "text": [
      "Best trial: 85. Best value: 0.996084:  96%|█████████▌| 96/100 [11:03<00:33,  8.30s/it]"
     ]
    },
    {
     "name": "stdout",
     "output_type": "stream",
     "text": [
      "[I 2024-08-19 16:19:39,485] Trial 95 finished with value: 0.9959803756803863 and parameters: {'max_depth': 13, 'learning_rate': 0.04533150190433352, 'n_estimators': 944, 'gamma': 4.22151015533332, 'subsample': 0.5904258413772601, 'colsample_bytree': 0.8616469350088298, 'colsample_bylevel': 0.8363861186587418, 'colsample_bynode': 0.8565778447156813, 'min_child_weight': 10, 'scale_pos_weight': 1.6370449421185773, 'reg_alpha': 8.185696846614205, 'reg_lambda': 4.860938242057584, 'max_delta_step': 6}. Best is trial 85 with value: 0.9960839276533298.\n",
      "Starting cross-validation.\n"
     ]
    },
    {
     "name": "stderr",
     "output_type": "stream",
     "text": [
      "Best trial: 85. Best value: 0.996084:  97%|█████████▋| 97/100 [11:12<00:25,  8.39s/it]"
     ]
    },
    {
     "name": "stdout",
     "output_type": "stream",
     "text": [
      "[I 2024-08-19 16:19:48,088] Trial 96 finished with value: 0.9958928572278147 and parameters: {'max_depth': 15, 'learning_rate': 0.038917555674860715, 'n_estimators': 917, 'gamma': 4.745468605468177, 'subsample': 0.5699103646558481, 'colsample_bytree': 0.8196703218867782, 'colsample_bylevel': 0.9871832738286537, 'colsample_bynode': 0.8348288379303369, 'min_child_weight': 9, 'scale_pos_weight': 2.032574401881666, 'reg_alpha': 9.795391656166204, 'reg_lambda': 3.670676336896242, 'max_delta_step': 7}. Best is trial 85 with value: 0.9960839276533298.\n",
      "Starting cross-validation.\n"
     ]
    },
    {
     "name": "stderr",
     "output_type": "stream",
     "text": [
      "Best trial: 85. Best value: 0.996084:  98%|█████████▊| 98/100 [11:20<00:17,  8.55s/it]"
     ]
    },
    {
     "name": "stdout",
     "output_type": "stream",
     "text": [
      "[I 2024-08-19 16:19:56,993] Trial 97 finished with value: 0.9960320387485482 and parameters: {'max_depth': 14, 'learning_rate': 0.029339905675080928, 'n_estimators': 876, 'gamma': 3.648263103988663, 'subsample': 0.5454965372630414, 'colsample_bytree': 0.8373605682690906, 'colsample_bylevel': 0.9009950794027077, 'colsample_bynode': 0.8781867401769561, 'min_child_weight': 10, 'scale_pos_weight': 1.200027065156039, 'reg_alpha': 9.041712513208896, 'reg_lambda': 5.565358111895414, 'max_delta_step': 7}. Best is trial 85 with value: 0.9960839276533298.\n",
      "Starting cross-validation.\n"
     ]
    },
    {
     "name": "stderr",
     "output_type": "stream",
     "text": [
      "Best trial: 85. Best value: 0.996084:  99%|█████████▉| 99/100 [11:30<00:08,  8.87s/it]"
     ]
    },
    {
     "name": "stdout",
     "output_type": "stream",
     "text": [
      "[I 2024-08-19 16:20:06,607] Trial 98 finished with value: 0.995970273522518 and parameters: {'max_depth': 13, 'learning_rate': 0.029350924827887842, 'n_estimators': 882, 'gamma': 3.951052487856817, 'subsample': 0.5494571248087624, 'colsample_bytree': 0.837779877414561, 'colsample_bylevel': 0.9060633662985234, 'colsample_bynode': 0.8803223137101593, 'min_child_weight': 9, 'scale_pos_weight': 2.4238859074478363, 'reg_alpha': 8.862209346588605, 'reg_lambda': 4.186224300728302, 'max_delta_step': 8}. Best is trial 85 with value: 0.9960839276533298.\n",
      "Starting cross-validation.\n"
     ]
    },
    {
     "name": "stderr",
     "output_type": "stream",
     "text": [
      "Best trial: 85. Best value: 0.996084: 100%|██████████| 100/100 [11:38<00:00,  6.98s/it]"
     ]
    },
    {
     "name": "stdout",
     "output_type": "stream",
     "text": [
      "[I 2024-08-19 16:20:14,565] Trial 99 finished with value: 0.9958274390935804 and parameters: {'max_depth': 14, 'learning_rate': 0.042098662580154704, 'n_estimators': 825, 'gamma': 4.10004769071952, 'subsample': 0.5088324236712807, 'colsample_bytree': 0.8809999252090934, 'colsample_bylevel': 0.9363619768230396, 'colsample_bynode': 0.9019386965279707, 'min_child_weight': 2, 'scale_pos_weight': 1.1704827730945753, 'reg_alpha': 8.538250958360004, 'reg_lambda': 2.0705092825670794, 'max_delta_step': 9}. Best is trial 85 with value: 0.9960839276533298.\n"
     ]
    },
    {
     "name": "stderr",
     "output_type": "stream",
     "text": [
      "\n"
     ]
    }
   ],
   "source": [
    "print(\"Running Optuna for Hyperparameter Tuning\")\n",
    "\n",
    "warnings.filterwarnings(action= \"ignore\")\n",
    "study= optuna.create_study(direction= \"maximize\")\n",
    "study.optimize(objective, n_trials= 100, show_progress_bar= True)"
   ]
  },
  {
   "cell_type": "code",
   "execution_count": 9,
   "metadata": {},
   "outputs": [
    {
     "name": "stdout",
     "output_type": "stream",
     "text": [
      "Best hyperparameters:  {'max_depth': 15, 'learning_rate': 0.08561001804950044, 'n_estimators': 710, 'gamma': 4.3130810261428385, 'subsample': 0.5912307921737588, 'colsample_bytree': 0.827648299944596, 'colsample_bylevel': 0.8645044643016258, 'colsample_bynode': 0.8948538181909136, 'min_child_weight': 10, 'scale_pos_weight': 1.1734695188379878, 'reg_alpha': 7.277321059668214, 'reg_lambda': 5.126906713495569, 'max_delta_step': 5}\n"
     ]
    }
   ],
   "source": [
    "best_params= study.best_params\n",
    "print(\"Best hyperparameters: \", best_params)"
   ]
  },
  {
   "cell_type": "code",
   "execution_count": 10,
   "metadata": {},
   "outputs": [
    {
     "data": {
      "text/html": [
       "<style>#sk-container-id-1 {\n",
       "  /* Definition of color scheme common for light and dark mode */\n",
       "  --sklearn-color-text: black;\n",
       "  --sklearn-color-line: gray;\n",
       "  /* Definition of color scheme for unfitted estimators */\n",
       "  --sklearn-color-unfitted-level-0: #fff5e6;\n",
       "  --sklearn-color-unfitted-level-1: #f6e4d2;\n",
       "  --sklearn-color-unfitted-level-2: #ffe0b3;\n",
       "  --sklearn-color-unfitted-level-3: chocolate;\n",
       "  /* Definition of color scheme for fitted estimators */\n",
       "  --sklearn-color-fitted-level-0: #f0f8ff;\n",
       "  --sklearn-color-fitted-level-1: #d4ebff;\n",
       "  --sklearn-color-fitted-level-2: #b3dbfd;\n",
       "  --sklearn-color-fitted-level-3: cornflowerblue;\n",
       "\n",
       "  /* Specific color for light theme */\n",
       "  --sklearn-color-text-on-default-background: var(--sg-text-color, var(--theme-code-foreground, var(--jp-content-font-color1, black)));\n",
       "  --sklearn-color-background: var(--sg-background-color, var(--theme-background, var(--jp-layout-color0, white)));\n",
       "  --sklearn-color-border-box: var(--sg-text-color, var(--theme-code-foreground, var(--jp-content-font-color1, black)));\n",
       "  --sklearn-color-icon: #696969;\n",
       "\n",
       "  @media (prefers-color-scheme: dark) {\n",
       "    /* Redefinition of color scheme for dark theme */\n",
       "    --sklearn-color-text-on-default-background: var(--sg-text-color, var(--theme-code-foreground, var(--jp-content-font-color1, white)));\n",
       "    --sklearn-color-background: var(--sg-background-color, var(--theme-background, var(--jp-layout-color0, #111)));\n",
       "    --sklearn-color-border-box: var(--sg-text-color, var(--theme-code-foreground, var(--jp-content-font-color1, white)));\n",
       "    --sklearn-color-icon: #878787;\n",
       "  }\n",
       "}\n",
       "\n",
       "#sk-container-id-1 {\n",
       "  color: var(--sklearn-color-text);\n",
       "}\n",
       "\n",
       "#sk-container-id-1 pre {\n",
       "  padding: 0;\n",
       "}\n",
       "\n",
       "#sk-container-id-1 input.sk-hidden--visually {\n",
       "  border: 0;\n",
       "  clip: rect(1px 1px 1px 1px);\n",
       "  clip: rect(1px, 1px, 1px, 1px);\n",
       "  height: 1px;\n",
       "  margin: -1px;\n",
       "  overflow: hidden;\n",
       "  padding: 0;\n",
       "  position: absolute;\n",
       "  width: 1px;\n",
       "}\n",
       "\n",
       "#sk-container-id-1 div.sk-dashed-wrapped {\n",
       "  border: 1px dashed var(--sklearn-color-line);\n",
       "  margin: 0 0.4em 0.5em 0.4em;\n",
       "  box-sizing: border-box;\n",
       "  padding-bottom: 0.4em;\n",
       "  background-color: var(--sklearn-color-background);\n",
       "}\n",
       "\n",
       "#sk-container-id-1 div.sk-container {\n",
       "  /* jupyter's `normalize.less` sets `[hidden] { display: none; }`\n",
       "     but bootstrap.min.css set `[hidden] { display: none !important; }`\n",
       "     so we also need the `!important` here to be able to override the\n",
       "     default hidden behavior on the sphinx rendered scikit-learn.org.\n",
       "     See: https://github.com/scikit-learn/scikit-learn/issues/21755 */\n",
       "  display: inline-block !important;\n",
       "  position: relative;\n",
       "}\n",
       "\n",
       "#sk-container-id-1 div.sk-text-repr-fallback {\n",
       "  display: none;\n",
       "}\n",
       "\n",
       "div.sk-parallel-item,\n",
       "div.sk-serial,\n",
       "div.sk-item {\n",
       "  /* draw centered vertical line to link estimators */\n",
       "  background-image: linear-gradient(var(--sklearn-color-text-on-default-background), var(--sklearn-color-text-on-default-background));\n",
       "  background-size: 2px 100%;\n",
       "  background-repeat: no-repeat;\n",
       "  background-position: center center;\n",
       "}\n",
       "\n",
       "/* Parallel-specific style estimator block */\n",
       "\n",
       "#sk-container-id-1 div.sk-parallel-item::after {\n",
       "  content: \"\";\n",
       "  width: 100%;\n",
       "  border-bottom: 2px solid var(--sklearn-color-text-on-default-background);\n",
       "  flex-grow: 1;\n",
       "}\n",
       "\n",
       "#sk-container-id-1 div.sk-parallel {\n",
       "  display: flex;\n",
       "  align-items: stretch;\n",
       "  justify-content: center;\n",
       "  background-color: var(--sklearn-color-background);\n",
       "  position: relative;\n",
       "}\n",
       "\n",
       "#sk-container-id-1 div.sk-parallel-item {\n",
       "  display: flex;\n",
       "  flex-direction: column;\n",
       "}\n",
       "\n",
       "#sk-container-id-1 div.sk-parallel-item:first-child::after {\n",
       "  align-self: flex-end;\n",
       "  width: 50%;\n",
       "}\n",
       "\n",
       "#sk-container-id-1 div.sk-parallel-item:last-child::after {\n",
       "  align-self: flex-start;\n",
       "  width: 50%;\n",
       "}\n",
       "\n",
       "#sk-container-id-1 div.sk-parallel-item:only-child::after {\n",
       "  width: 0;\n",
       "}\n",
       "\n",
       "/* Serial-specific style estimator block */\n",
       "\n",
       "#sk-container-id-1 div.sk-serial {\n",
       "  display: flex;\n",
       "  flex-direction: column;\n",
       "  align-items: center;\n",
       "  background-color: var(--sklearn-color-background);\n",
       "  padding-right: 1em;\n",
       "  padding-left: 1em;\n",
       "}\n",
       "\n",
       "\n",
       "/* Toggleable style: style used for estimator/Pipeline/ColumnTransformer box that is\n",
       "clickable and can be expanded/collapsed.\n",
       "- Pipeline and ColumnTransformer use this feature and define the default style\n",
       "- Estimators will overwrite some part of the style using the `sk-estimator` class\n",
       "*/\n",
       "\n",
       "/* Pipeline and ColumnTransformer style (default) */\n",
       "\n",
       "#sk-container-id-1 div.sk-toggleable {\n",
       "  /* Default theme specific background. It is overwritten whether we have a\n",
       "  specific estimator or a Pipeline/ColumnTransformer */\n",
       "  background-color: var(--sklearn-color-background);\n",
       "}\n",
       "\n",
       "/* Toggleable label */\n",
       "#sk-container-id-1 label.sk-toggleable__label {\n",
       "  cursor: pointer;\n",
       "  display: block;\n",
       "  width: 100%;\n",
       "  margin-bottom: 0;\n",
       "  padding: 0.5em;\n",
       "  box-sizing: border-box;\n",
       "  text-align: center;\n",
       "}\n",
       "\n",
       "#sk-container-id-1 label.sk-toggleable__label-arrow:before {\n",
       "  /* Arrow on the left of the label */\n",
       "  content: \"▸\";\n",
       "  float: left;\n",
       "  margin-right: 0.25em;\n",
       "  color: var(--sklearn-color-icon);\n",
       "}\n",
       "\n",
       "#sk-container-id-1 label.sk-toggleable__label-arrow:hover:before {\n",
       "  color: var(--sklearn-color-text);\n",
       "}\n",
       "\n",
       "/* Toggleable content - dropdown */\n",
       "\n",
       "#sk-container-id-1 div.sk-toggleable__content {\n",
       "  max-height: 0;\n",
       "  max-width: 0;\n",
       "  overflow: hidden;\n",
       "  text-align: left;\n",
       "  /* unfitted */\n",
       "  background-color: var(--sklearn-color-unfitted-level-0);\n",
       "}\n",
       "\n",
       "#sk-container-id-1 div.sk-toggleable__content.fitted {\n",
       "  /* fitted */\n",
       "  background-color: var(--sklearn-color-fitted-level-0);\n",
       "}\n",
       "\n",
       "#sk-container-id-1 div.sk-toggleable__content pre {\n",
       "  margin: 0.2em;\n",
       "  border-radius: 0.25em;\n",
       "  color: var(--sklearn-color-text);\n",
       "  /* unfitted */\n",
       "  background-color: var(--sklearn-color-unfitted-level-0);\n",
       "}\n",
       "\n",
       "#sk-container-id-1 div.sk-toggleable__content.fitted pre {\n",
       "  /* unfitted */\n",
       "  background-color: var(--sklearn-color-fitted-level-0);\n",
       "}\n",
       "\n",
       "#sk-container-id-1 input.sk-toggleable__control:checked~div.sk-toggleable__content {\n",
       "  /* Expand drop-down */\n",
       "  max-height: 200px;\n",
       "  max-width: 100%;\n",
       "  overflow: auto;\n",
       "}\n",
       "\n",
       "#sk-container-id-1 input.sk-toggleable__control:checked~label.sk-toggleable__label-arrow:before {\n",
       "  content: \"▾\";\n",
       "}\n",
       "\n",
       "/* Pipeline/ColumnTransformer-specific style */\n",
       "\n",
       "#sk-container-id-1 div.sk-label input.sk-toggleable__control:checked~label.sk-toggleable__label {\n",
       "  color: var(--sklearn-color-text);\n",
       "  background-color: var(--sklearn-color-unfitted-level-2);\n",
       "}\n",
       "\n",
       "#sk-container-id-1 div.sk-label.fitted input.sk-toggleable__control:checked~label.sk-toggleable__label {\n",
       "  background-color: var(--sklearn-color-fitted-level-2);\n",
       "}\n",
       "\n",
       "/* Estimator-specific style */\n",
       "\n",
       "/* Colorize estimator box */\n",
       "#sk-container-id-1 div.sk-estimator input.sk-toggleable__control:checked~label.sk-toggleable__label {\n",
       "  /* unfitted */\n",
       "  background-color: var(--sklearn-color-unfitted-level-2);\n",
       "}\n",
       "\n",
       "#sk-container-id-1 div.sk-estimator.fitted input.sk-toggleable__control:checked~label.sk-toggleable__label {\n",
       "  /* fitted */\n",
       "  background-color: var(--sklearn-color-fitted-level-2);\n",
       "}\n",
       "\n",
       "#sk-container-id-1 div.sk-label label.sk-toggleable__label,\n",
       "#sk-container-id-1 div.sk-label label {\n",
       "  /* The background is the default theme color */\n",
       "  color: var(--sklearn-color-text-on-default-background);\n",
       "}\n",
       "\n",
       "/* On hover, darken the color of the background */\n",
       "#sk-container-id-1 div.sk-label:hover label.sk-toggleable__label {\n",
       "  color: var(--sklearn-color-text);\n",
       "  background-color: var(--sklearn-color-unfitted-level-2);\n",
       "}\n",
       "\n",
       "/* Label box, darken color on hover, fitted */\n",
       "#sk-container-id-1 div.sk-label.fitted:hover label.sk-toggleable__label.fitted {\n",
       "  color: var(--sklearn-color-text);\n",
       "  background-color: var(--sklearn-color-fitted-level-2);\n",
       "}\n",
       "\n",
       "/* Estimator label */\n",
       "\n",
       "#sk-container-id-1 div.sk-label label {\n",
       "  font-family: monospace;\n",
       "  font-weight: bold;\n",
       "  display: inline-block;\n",
       "  line-height: 1.2em;\n",
       "}\n",
       "\n",
       "#sk-container-id-1 div.sk-label-container {\n",
       "  text-align: center;\n",
       "}\n",
       "\n",
       "/* Estimator-specific */\n",
       "#sk-container-id-1 div.sk-estimator {\n",
       "  font-family: monospace;\n",
       "  border: 1px dotted var(--sklearn-color-border-box);\n",
       "  border-radius: 0.25em;\n",
       "  box-sizing: border-box;\n",
       "  margin-bottom: 0.5em;\n",
       "  /* unfitted */\n",
       "  background-color: var(--sklearn-color-unfitted-level-0);\n",
       "}\n",
       "\n",
       "#sk-container-id-1 div.sk-estimator.fitted {\n",
       "  /* fitted */\n",
       "  background-color: var(--sklearn-color-fitted-level-0);\n",
       "}\n",
       "\n",
       "/* on hover */\n",
       "#sk-container-id-1 div.sk-estimator:hover {\n",
       "  /* unfitted */\n",
       "  background-color: var(--sklearn-color-unfitted-level-2);\n",
       "}\n",
       "\n",
       "#sk-container-id-1 div.sk-estimator.fitted:hover {\n",
       "  /* fitted */\n",
       "  background-color: var(--sklearn-color-fitted-level-2);\n",
       "}\n",
       "\n",
       "/* Specification for estimator info (e.g. \"i\" and \"?\") */\n",
       "\n",
       "/* Common style for \"i\" and \"?\" */\n",
       "\n",
       ".sk-estimator-doc-link,\n",
       "a:link.sk-estimator-doc-link,\n",
       "a:visited.sk-estimator-doc-link {\n",
       "  float: right;\n",
       "  font-size: smaller;\n",
       "  line-height: 1em;\n",
       "  font-family: monospace;\n",
       "  background-color: var(--sklearn-color-background);\n",
       "  border-radius: 1em;\n",
       "  height: 1em;\n",
       "  width: 1em;\n",
       "  text-decoration: none !important;\n",
       "  margin-left: 1ex;\n",
       "  /* unfitted */\n",
       "  border: var(--sklearn-color-unfitted-level-1) 1pt solid;\n",
       "  color: var(--sklearn-color-unfitted-level-1);\n",
       "}\n",
       "\n",
       ".sk-estimator-doc-link.fitted,\n",
       "a:link.sk-estimator-doc-link.fitted,\n",
       "a:visited.sk-estimator-doc-link.fitted {\n",
       "  /* fitted */\n",
       "  border: var(--sklearn-color-fitted-level-1) 1pt solid;\n",
       "  color: var(--sklearn-color-fitted-level-1);\n",
       "}\n",
       "\n",
       "/* On hover */\n",
       "div.sk-estimator:hover .sk-estimator-doc-link:hover,\n",
       ".sk-estimator-doc-link:hover,\n",
       "div.sk-label-container:hover .sk-estimator-doc-link:hover,\n",
       ".sk-estimator-doc-link:hover {\n",
       "  /* unfitted */\n",
       "  background-color: var(--sklearn-color-unfitted-level-3);\n",
       "  color: var(--sklearn-color-background);\n",
       "  text-decoration: none;\n",
       "}\n",
       "\n",
       "div.sk-estimator.fitted:hover .sk-estimator-doc-link.fitted:hover,\n",
       ".sk-estimator-doc-link.fitted:hover,\n",
       "div.sk-label-container:hover .sk-estimator-doc-link.fitted:hover,\n",
       ".sk-estimator-doc-link.fitted:hover {\n",
       "  /* fitted */\n",
       "  background-color: var(--sklearn-color-fitted-level-3);\n",
       "  color: var(--sklearn-color-background);\n",
       "  text-decoration: none;\n",
       "}\n",
       "\n",
       "/* Span, style for the box shown on hovering the info icon */\n",
       ".sk-estimator-doc-link span {\n",
       "  display: none;\n",
       "  z-index: 9999;\n",
       "  position: relative;\n",
       "  font-weight: normal;\n",
       "  right: .2ex;\n",
       "  padding: .5ex;\n",
       "  margin: .5ex;\n",
       "  width: min-content;\n",
       "  min-width: 20ex;\n",
       "  max-width: 50ex;\n",
       "  color: var(--sklearn-color-text);\n",
       "  box-shadow: 2pt 2pt 4pt #999;\n",
       "  /* unfitted */\n",
       "  background: var(--sklearn-color-unfitted-level-0);\n",
       "  border: .5pt solid var(--sklearn-color-unfitted-level-3);\n",
       "}\n",
       "\n",
       ".sk-estimator-doc-link.fitted span {\n",
       "  /* fitted */\n",
       "  background: var(--sklearn-color-fitted-level-0);\n",
       "  border: var(--sklearn-color-fitted-level-3);\n",
       "}\n",
       "\n",
       ".sk-estimator-doc-link:hover span {\n",
       "  display: block;\n",
       "}\n",
       "\n",
       "/* \"?\"-specific style due to the `<a>` HTML tag */\n",
       "\n",
       "#sk-container-id-1 a.estimator_doc_link {\n",
       "  float: right;\n",
       "  font-size: 1rem;\n",
       "  line-height: 1em;\n",
       "  font-family: monospace;\n",
       "  background-color: var(--sklearn-color-background);\n",
       "  border-radius: 1rem;\n",
       "  height: 1rem;\n",
       "  width: 1rem;\n",
       "  text-decoration: none;\n",
       "  /* unfitted */\n",
       "  color: var(--sklearn-color-unfitted-level-1);\n",
       "  border: var(--sklearn-color-unfitted-level-1) 1pt solid;\n",
       "}\n",
       "\n",
       "#sk-container-id-1 a.estimator_doc_link.fitted {\n",
       "  /* fitted */\n",
       "  border: var(--sklearn-color-fitted-level-1) 1pt solid;\n",
       "  color: var(--sklearn-color-fitted-level-1);\n",
       "}\n",
       "\n",
       "/* On hover */\n",
       "#sk-container-id-1 a.estimator_doc_link:hover {\n",
       "  /* unfitted */\n",
       "  background-color: var(--sklearn-color-unfitted-level-3);\n",
       "  color: var(--sklearn-color-background);\n",
       "  text-decoration: none;\n",
       "}\n",
       "\n",
       "#sk-container-id-1 a.estimator_doc_link.fitted:hover {\n",
       "  /* fitted */\n",
       "  background-color: var(--sklearn-color-fitted-level-3);\n",
       "}\n",
       "</style><div id=\"sk-container-id-1\" class=\"sk-top-container\"><div class=\"sk-text-repr-fallback\"><pre>XGBClassifier(base_score=None, booster=None, callbacks=None,\n",
       "              colsample_bylevel=0.8645044643016258,\n",
       "              colsample_bynode=0.8948538181909136,\n",
       "              colsample_bytree=0.827648299944596, device=None,\n",
       "              early_stopping_rounds=None, enable_categorical=False,\n",
       "              eval_metric=None, feature_types=None, gamma=4.3130810261428385,\n",
       "              grow_policy=None, importance_type=None,\n",
       "              interaction_constraints=None, learning_rate=0.08561001804950044,\n",
       "              max_bin=None, max_cat_threshold=None, max_cat_to_onehot=None,\n",
       "              max_delta_step=5, max_depth=15, max_leaves=None,\n",
       "              min_child_weight=10, missing=nan, monotone_constraints=None,\n",
       "              multi_strategy=None, n_estimators=710, n_jobs=None,\n",
       "              num_parallel_tree=None, random_state=42, ...)</pre><b>In a Jupyter environment, please rerun this cell to show the HTML representation or trust the notebook. <br />On GitHub, the HTML representation is unable to render, please try loading this page with nbviewer.org.</b></div><div class=\"sk-container\" hidden><div class=\"sk-item\"><div class=\"sk-estimator fitted sk-toggleable\"><input class=\"sk-toggleable__control sk-hidden--visually\" id=\"sk-estimator-id-1\" type=\"checkbox\" checked><label for=\"sk-estimator-id-1\" class=\"sk-toggleable__label fitted sk-toggleable__label-arrow fitted\">&nbsp;XGBClassifier<span class=\"sk-estimator-doc-link fitted\">i<span>Fitted</span></span></label><div class=\"sk-toggleable__content fitted\"><pre>XGBClassifier(base_score=None, booster=None, callbacks=None,\n",
       "              colsample_bylevel=0.8645044643016258,\n",
       "              colsample_bynode=0.8948538181909136,\n",
       "              colsample_bytree=0.827648299944596, device=None,\n",
       "              early_stopping_rounds=None, enable_categorical=False,\n",
       "              eval_metric=None, feature_types=None, gamma=4.3130810261428385,\n",
       "              grow_policy=None, importance_type=None,\n",
       "              interaction_constraints=None, learning_rate=0.08561001804950044,\n",
       "              max_bin=None, max_cat_threshold=None, max_cat_to_onehot=None,\n",
       "              max_delta_step=5, max_depth=15, max_leaves=None,\n",
       "              min_child_weight=10, missing=nan, monotone_constraints=None,\n",
       "              multi_strategy=None, n_estimators=710, n_jobs=None,\n",
       "              num_parallel_tree=None, random_state=42, ...)</pre></div> </div></div></div></div>"
      ],
      "text/plain": [
       "XGBClassifier(base_score=None, booster=None, callbacks=None,\n",
       "              colsample_bylevel=0.8645044643016258,\n",
       "              colsample_bynode=0.8948538181909136,\n",
       "              colsample_bytree=0.827648299944596, device=None,\n",
       "              early_stopping_rounds=None, enable_categorical=False,\n",
       "              eval_metric=None, feature_types=None, gamma=4.3130810261428385,\n",
       "              grow_policy=None, importance_type=None,\n",
       "              interaction_constraints=None, learning_rate=0.08561001804950044,\n",
       "              max_bin=None, max_cat_threshold=None, max_cat_to_onehot=None,\n",
       "              max_delta_step=5, max_depth=15, max_leaves=None,\n",
       "              min_child_weight=10, missing=nan, monotone_constraints=None,\n",
       "              multi_strategy=None, n_estimators=710, n_jobs=None,\n",
       "              num_parallel_tree=None, random_state=42, ...)"
      ]
     },
     "execution_count": 10,
     "metadata": {},
     "output_type": "execute_result"
    }
   ],
   "source": [
    "final_model= XGBClassifier(**best_params, random_state= 42, verbose= True)\n",
    "final_model.fit(X_scaled, y)"
   ]
  },
  {
   "cell_type": "code",
   "execution_count": 11,
   "metadata": {},
   "outputs": [],
   "source": [
    "y_pred = final_model.predict(X_scaled)\n",
    "y_proba = final_model.predict_proba(X_scaled)[:, 1]"
   ]
  },
  {
   "cell_type": "code",
   "execution_count": 12,
   "metadata": {},
   "outputs": [
    {
     "data": {
      "text/plain": [
       "(12603,)"
      ]
     },
     "execution_count": 12,
     "metadata": {},
     "output_type": "execute_result"
    }
   ],
   "source": [
    "y_proba.shape"
   ]
  },
  {
   "cell_type": "code",
   "execution_count": 13,
   "metadata": {},
   "outputs": [
    {
     "name": "stdout",
     "output_type": "stream",
     "text": [
      "AUC-ROC score: 0.9982094047098619\n",
      "              precision    recall  f1-score   support\n",
      "\n",
      "           0       1.00      0.99      0.99     11919\n",
      "           1       0.88      0.92      0.90       684\n",
      "\n",
      "    accuracy                           0.99     12603\n",
      "   macro avg       0.94      0.96      0.95     12603\n",
      "weighted avg       0.99      0.99      0.99     12603\n",
      "\n"
     ]
    }
   ],
   "source": [
    "auc_roc = roc_auc_score(y, y_proba)\n",
    "print(f\"AUC-ROC score: {auc_roc}\")\n",
    "print(classification_report(y, y_pred))"
   ]
  },
  {
   "cell_type": "code",
   "execution_count": 32,
   "metadata": {},
   "outputs": [
    {
     "data": {
      "text/plain": [
       "['Scaler.pkl']"
      ]
     },
     "execution_count": 32,
     "metadata": {},
     "output_type": "execute_result"
    }
   ],
   "source": [
    "joblib.dump(final_model, 'MODEL.pkl')\n",
    "joblib.dump(scaler, 'Scaler.pkl')"
   ]
  },
  {
   "cell_type": "code",
   "execution_count": 8,
   "metadata": {},
   "outputs": [],
   "source": [
    "def validate_model(model, X, y):\n",
    "    print(\"Validating the model...\")\n",
    "    y_pred = model.predict(X)\n",
    "    y_proba = model.predict_proba(X)[:, 1]\n",
    "    \n",
    "    auc_roc = roc_auc_score(y, y_proba)\n",
    "    print(f\"AUC-ROC score: {auc_roc}\")\n",
    "    print(classification_report(y, y_pred))"
   ]
  },
  {
   "cell_type": "code",
   "execution_count": 9,
   "metadata": {},
   "outputs": [],
   "source": [
    "model = joblib.load('MODEL.pkl')\n",
    "scaler = joblib.load('scaler.pkl')"
   ]
  },
  {
   "cell_type": "code",
   "execution_count": 10,
   "metadata": {},
   "outputs": [
    {
     "name": "stdout",
     "output_type": "stream",
     "text": [
      "Validating the model...\n",
      "AUC-ROC score: 0.9982094047098619\n",
      "              precision    recall  f1-score   support\n",
      "\n",
      "           0       1.00      0.99      0.99     11919\n",
      "           1       0.88      0.92      0.90       684\n",
      "\n",
      "    accuracy                           0.99     12603\n",
      "   macro avg       0.94      0.96      0.95     12603\n",
      "weighted avg       0.99      0.99      0.99     12603\n",
      "\n"
     ]
    }
   ],
   "source": [
    "validate_model(model, X_scaled, y)"
   ]
  },
  {
   "cell_type": "code",
   "execution_count": 11,
   "metadata": {},
   "outputs": [],
   "source": [
    "def predict_heatwave(model, recent_data):\n",
    "    print(\"Predicting heatwave based on the last 10 days of data...\")\n",
    "    X_recent = preprocess_data(recent_data).tail(1)\n",
    "    X_recent_scaled = scaler.transform(X_recent.drop(columns=['HEATWAVE', 'Year', 'Month', 'Day']))\n",
    "    \n",
    "    prediction = model.predict(X_recent_scaled)\n",
    "    probability = model.predict_proba(X_recent_scaled)[:, 1]\n",
    "    \n",
    "    return prediction[0], probability[0]"
   ]
  },
  {
   "cell_type": "code",
   "execution_count": 12,
   "metadata": {},
   "outputs": [
    {
     "name": "stdout",
     "output_type": "stream",
     "text": [
      "Predicting heatwave based on the last 10 days of data...\n",
      "Preprocessing data.\n",
      "Heatwave Prediction: 1, Probability: 0.7116962671279907\n"
     ]
    }
   ],
   "source": [
    "recent_data = pd.read_csv(\"../subsets/file_159.csv\")\n",
    "heatwave_pred, heatwave_proba = predict_heatwave(model, recent_data)\n",
    "print(f\"Heatwave Prediction: {heatwave_pred}, Probability: {heatwave_proba}\")"
   ]
  },
  {
   "cell_type": "code",
   "execution_count": 13,
   "metadata": {},
   "outputs": [
    {
     "data": {
      "text/html": [
       "<div>\n",
       "<style scoped>\n",
       "    .dataframe tbody tr th:only-of-type {\n",
       "        vertical-align: middle;\n",
       "    }\n",
       "\n",
       "    .dataframe tbody tr th {\n",
       "        vertical-align: top;\n",
       "    }\n",
       "\n",
       "    .dataframe thead th {\n",
       "        text-align: right;\n",
       "    }\n",
       "</style>\n",
       "<table border=\"1\" class=\"dataframe\">\n",
       "  <thead>\n",
       "    <tr style=\"text-align: right;\">\n",
       "      <th></th>\n",
       "      <th>Year</th>\n",
       "      <th>Month</th>\n",
       "      <th>Day</th>\n",
       "      <th>SurfacePressure</th>\n",
       "      <th>MaxTemperature</th>\n",
       "      <th>MinTemperature</th>\n",
       "      <th>DewPoint</th>\n",
       "      <th>WetBulbTemp</th>\n",
       "      <th>RelHumidity</th>\n",
       "      <th>WindSpeed10</th>\n",
       "      <th>...</th>\n",
       "      <th>RelHumidity_rolling_mean_7</th>\n",
       "      <th>WindSpeed10_rolling_mean_7</th>\n",
       "      <th>SurfacePressure_rolling_mean_7</th>\n",
       "      <th>DewPoint_rolling_mean_7</th>\n",
       "      <th>WetBulbTemp_rolling_mean_7</th>\n",
       "      <th>Precipitation_rolling_mean_7</th>\n",
       "      <th>Month_sin</th>\n",
       "      <th>Month_cos</th>\n",
       "      <th>Day_sin</th>\n",
       "      <th>Day_cos</th>\n",
       "    </tr>\n",
       "  </thead>\n",
       "  <tbody>\n",
       "    <tr>\n",
       "      <th>7</th>\n",
       "      <td>1994</td>\n",
       "      <td>5</td>\n",
       "      <td>17</td>\n",
       "      <td>97.61</td>\n",
       "      <td>43.47</td>\n",
       "      <td>25.28</td>\n",
       "      <td>3.95</td>\n",
       "      <td>19.28</td>\n",
       "      <td>16.56</td>\n",
       "      <td>2.91</td>\n",
       "      <td>...</td>\n",
       "      <td>20.090000</td>\n",
       "      <td>3.762857</td>\n",
       "      <td>97.797143</td>\n",
       "      <td>5.134286</td>\n",
       "      <td>18.980000</td>\n",
       "      <td>0.700000</td>\n",
       "      <td>0.5</td>\n",
       "      <td>-0.866025</td>\n",
       "      <td>-0.299363</td>\n",
       "      <td>-0.954139</td>\n",
       "    </tr>\n",
       "    <tr>\n",
       "      <th>8</th>\n",
       "      <td>1994</td>\n",
       "      <td>5</td>\n",
       "      <td>18</td>\n",
       "      <td>97.52</td>\n",
       "      <td>44.69</td>\n",
       "      <td>26.61</td>\n",
       "      <td>5.82</td>\n",
       "      <td>20.99</td>\n",
       "      <td>16.56</td>\n",
       "      <td>2.84</td>\n",
       "      <td>...</td>\n",
       "      <td>20.161429</td>\n",
       "      <td>3.644286</td>\n",
       "      <td>97.762857</td>\n",
       "      <td>5.897143</td>\n",
       "      <td>19.704286</td>\n",
       "      <td>0.497143</td>\n",
       "      <td>0.5</td>\n",
       "      <td>-0.866025</td>\n",
       "      <td>-0.485302</td>\n",
       "      <td>-0.874347</td>\n",
       "    </tr>\n",
       "    <tr>\n",
       "      <th>9</th>\n",
       "      <td>1994</td>\n",
       "      <td>5</td>\n",
       "      <td>19</td>\n",
       "      <td>97.47</td>\n",
       "      <td>45.94</td>\n",
       "      <td>28.36</td>\n",
       "      <td>6.98</td>\n",
       "      <td>22.47</td>\n",
       "      <td>15.81</td>\n",
       "      <td>2.45</td>\n",
       "      <td>...</td>\n",
       "      <td>20.384286</td>\n",
       "      <td>3.614286</td>\n",
       "      <td>97.725714</td>\n",
       "      <td>6.744286</td>\n",
       "      <td>20.400000</td>\n",
       "      <td>0.497143</td>\n",
       "      <td>0.5</td>\n",
       "      <td>-0.866025</td>\n",
       "      <td>-0.651372</td>\n",
       "      <td>-0.758758</td>\n",
       "    </tr>\n",
       "  </tbody>\n",
       "</table>\n",
       "<p>3 rows × 80 columns</p>\n",
       "</div>"
      ],
      "text/plain": [
       "   Year  Month  Day  SurfacePressure  MaxTemperature  MinTemperature  \\\n",
       "7  1994      5   17            97.61           43.47           25.28   \n",
       "8  1994      5   18            97.52           44.69           26.61   \n",
       "9  1994      5   19            97.47           45.94           28.36   \n",
       "\n",
       "   DewPoint  WetBulbTemp  RelHumidity  WindSpeed10  ...  \\\n",
       "7      3.95        19.28        16.56         2.91  ...   \n",
       "8      5.82        20.99        16.56         2.84  ...   \n",
       "9      6.98        22.47        15.81         2.45  ...   \n",
       "\n",
       "   RelHumidity_rolling_mean_7  WindSpeed10_rolling_mean_7  \\\n",
       "7                   20.090000                    3.762857   \n",
       "8                   20.161429                    3.644286   \n",
       "9                   20.384286                    3.614286   \n",
       "\n",
       "   SurfacePressure_rolling_mean_7  DewPoint_rolling_mean_7  \\\n",
       "7                       97.797143                 5.134286   \n",
       "8                       97.762857                 5.897143   \n",
       "9                       97.725714                 6.744286   \n",
       "\n",
       "   WetBulbTemp_rolling_mean_7  Precipitation_rolling_mean_7  Month_sin  \\\n",
       "7                   18.980000                      0.700000        0.5   \n",
       "8                   19.704286                      0.497143        0.5   \n",
       "9                   20.400000                      0.497143        0.5   \n",
       "\n",
       "   Month_cos   Day_sin   Day_cos  \n",
       "7  -0.866025 -0.299363 -0.954139  \n",
       "8  -0.866025 -0.485302 -0.874347  \n",
       "9  -0.866025 -0.651372 -0.758758  \n",
       "\n",
       "[3 rows x 80 columns]"
      ]
     },
     "execution_count": 13,
     "metadata": {},
     "output_type": "execute_result"
    }
   ],
   "source": [
    "recent_data"
   ]
  },
  {
   "cell_type": "code",
   "execution_count": null,
   "metadata": {},
   "outputs": [],
   "source": []
  }
 ],
 "metadata": {
  "kernelspec": {
   "display_name": "Python 3",
   "language": "python",
   "name": "python3"
  },
  "language_info": {
   "codemirror_mode": {
    "name": "ipython",
    "version": 3
   },
   "file_extension": ".py",
   "mimetype": "text/x-python",
   "name": "python",
   "nbconvert_exporter": "python",
   "pygments_lexer": "ipython3",
   "version": "3.10.12"
  }
 },
 "nbformat": 4,
 "nbformat_minor": 2
}
